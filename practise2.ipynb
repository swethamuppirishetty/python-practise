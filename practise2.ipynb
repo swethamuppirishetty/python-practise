{
  "nbformat": 4,
  "nbformat_minor": 0,
  "metadata": {
    "colab": {
      "provenance": [],
      "collapsed_sections": []
    },
    "kernelspec": {
      "name": "python3",
      "display_name": "Python 3"
    },
    "language_info": {
      "name": "python"
    }
  },
  "cells": [
    {
      "cell_type": "markdown",
      "source": [
        "#1. What are the two values of the Boolean data type? How do you write them?"
      ],
      "metadata": {
        "id": "8sdxNdHnuswf"
      }
    },
    {
      "cell_type": "code",
      "execution_count": null,
      "metadata": {
        "id": "RDzMr39wuV7M"
      },
      "outputs": [],
      "source": [
        "Boolean datatype has two possible values i.e, true or false"
      ]
    },
    {
      "cell_type": "code",
      "source": [
        "# Example1\n",
        "x=True\n",
        "print(type(x))\n",
        "y=False\n",
        "print(type(y))"
      ],
      "metadata": {
        "colab": {
          "base_uri": "https://localhost:8080/"
        },
        "id": "sVHMkQnIvTy6",
        "outputId": "a46cb950-33fb-4818-e446-3d5aa992f514"
      },
      "execution_count": 4,
      "outputs": [
        {
          "output_type": "stream",
          "name": "stdout",
          "text": [
            "<class 'bool'>\n",
            "<class 'bool'>\n"
          ]
        }
      ]
    },
    {
      "cell_type": "code",
      "source": [
        "#Example2\n",
        "x = 5\n",
        "y = 10\n",
        "print(bool(x==y))"
      ],
      "metadata": {
        "colab": {
          "base_uri": "https://localhost:8080/"
        },
        "id": "_Y7X7ggFv6W0",
        "outputId": "577cc171-2757-42b9-be6a-4570d3ad4905"
      },
      "execution_count": 6,
      "outputs": [
        {
          "output_type": "stream",
          "name": "stdout",
          "text": [
            "False\n"
          ]
        }
      ]
    },
    {
      "cell_type": "markdown",
      "source": [
        "#2. What are the three different types of Boolean operators?"
      ],
      "metadata": {
        "id": "C64TfmDrxKI1"
      }
    },
    {
      "cell_type": "code",
      "source": [
        "# AND - for AND both true, then output is true. else false in all cases\n",
        "# OR - for OR , any one is true, then output is true\n",
        "# NOT - negation \n",
        "x=True\n",
        "y=False\n",
        "print(x and y)\n",
        "print(x or y)\n",
        "print(x!=y)\n",
        "\n"
      ],
      "metadata": {
        "colab": {
          "base_uri": "https://localhost:8080/"
        },
        "id": "u_OL5JGmxSVZ",
        "outputId": "25e094e9-dcc0-4fe2-b8b1-0ade29e39843"
      },
      "execution_count": 8,
      "outputs": [
        {
          "output_type": "stream",
          "name": "stdout",
          "text": [
            "False\n",
            "True\n",
            "True\n"
          ]
        }
      ]
    },
    {
      "cell_type": "markdown",
      "source": [
        "#3. Make a list of each Boolean operator's truth tables (i.e. every possible combination of Boolean values for the operator and what it evaluate ).\n",
        "\n",
        "##  Logical opertors \n",
        "\n",
        "\n",
        "A | B | AND\n",
        "- | - | -\n",
        "True|True|True\n",
        "True|False|False\n",
        "False|True|False\n",
        "False|False|False\n",
        "\n",
        "\n",
        "A | B | OR\n",
        "- | - | -\n",
        "True|True|True\n",
        "True|False|True\n",
        "False|True|True\n",
        "False|False|False\n",
        "\n",
        "A | NOT\n",
        "- | -\n",
        "True|False\n",
        "False|True\n",
        "\n",
        "\n",
        "\n"
      ],
      "metadata": {
        "id": "mNCHcWbRCfDE"
      }
    },
    {
      "cell_type": "markdown",
      "source": [
        "#4. What are the values of the following expressions?\n",
        "Question |  Answer\n",
        "-  |  -\n",
        "(5 > 4) and (3 == 5)  | False\n",
        "not (5 > 4) | False\n",
        "(5 > 4) or (3 == 5) | True\n",
        "not ((5 > 4) or (3 == 5)) |  False\n",
        "(True and True) and (True == False) |   False\n",
        "(not False) or (not True) | True\n"
      ],
      "metadata": {
        "id": "D7MbRm2hEuuL"
      }
    },
    {
      "cell_type": "markdown",
      "source": [
        "#5. What are the six comparison operators?\n",
        "\n",
        "1. Less than (<)\n",
        "2. Greater than (>)\n",
        "3. Less than or equal to (<=)\n",
        "4. Greater than or equal to (>=)\n",
        "5. Equal to (==)\n",
        "6. Not equal to (!=)"
      ],
      "metadata": {
        "id": "wvHidHd6jfNv"
      }
    },
    {
      "cell_type": "code",
      "source": [
        "# <\n",
        "print(3<9)\n",
        "print(9<3)"
      ],
      "metadata": {
        "colab": {
          "base_uri": "https://localhost:8080/"
        },
        "id": "dzgRcPjsjlYM",
        "outputId": "0915b26b-508f-45c2-bfe8-90ef098797c2"
      },
      "execution_count": 9,
      "outputs": [
        {
          "output_type": "stream",
          "name": "stdout",
          "text": [
            "True\n",
            "False\n"
          ]
        }
      ]
    },
    {
      "cell_type": "code",
      "source": [
        "#>\n",
        "print(5>2)\n",
        "print(2>5)\n"
      ],
      "metadata": {
        "colab": {
          "base_uri": "https://localhost:8080/"
        },
        "id": "FZsSc50LfTSV",
        "outputId": "c71c26cb-9099-4862-de9d-7fc5aa7a475a"
      },
      "execution_count": 10,
      "outputs": [
        {
          "output_type": "stream",
          "name": "stdout",
          "text": [
            "True\n",
            "False\n"
          ]
        }
      ]
    },
    {
      "cell_type": "code",
      "source": [
        "# <=\n",
        "print(5<=10)\n",
        "print(10<=5)"
      ],
      "metadata": {
        "colab": {
          "base_uri": "https://localhost:8080/"
        },
        "id": "JcjgvJXffYI8",
        "outputId": "de0f9f51-55b8-41e9-e62e-0adc3a5b312b"
      },
      "execution_count": 11,
      "outputs": [
        {
          "output_type": "stream",
          "name": "stdout",
          "text": [
            "True\n",
            "False\n"
          ]
        }
      ]
    },
    {
      "cell_type": "code",
      "source": [
        "# >=\n",
        "print(1>=9)\n",
        "print(9>=1)"
      ],
      "metadata": {
        "colab": {
          "base_uri": "https://localhost:8080/"
        },
        "id": "6kq1DUtXfgCM",
        "outputId": "8b7cf0b0-4c8b-4cad-906e-393e0f664ea5"
      },
      "execution_count": 12,
      "outputs": [
        {
          "output_type": "stream",
          "name": "stdout",
          "text": [
            "False\n",
            "True\n"
          ]
        }
      ]
    },
    {
      "cell_type": "code",
      "source": [
        "# ==\n",
        "print(5==5)\n",
        "print(8==11)"
      ],
      "metadata": {
        "colab": {
          "base_uri": "https://localhost:8080/"
        },
        "id": "X_xaYSBxfn8K",
        "outputId": "23113db9-5e60-42d4-a388-38e0b3b40572"
      },
      "execution_count": 13,
      "outputs": [
        {
          "output_type": "stream",
          "name": "stdout",
          "text": [
            "True\n",
            "False\n"
          ]
        }
      ]
    },
    {
      "cell_type": "code",
      "source": [
        "# !=\n",
        "print(5!=5)\n",
        "print(10!=5)"
      ],
      "metadata": {
        "colab": {
          "base_uri": "https://localhost:8080/"
        },
        "id": "FTxXPD3TfxKm",
        "outputId": "44e24124-4e76-409a-e2f2-923272fd1261"
      },
      "execution_count": 14,
      "outputs": [
        {
          "output_type": "stream",
          "name": "stdout",
          "text": [
            "False\n",
            "True\n"
          ]
        }
      ]
    },
    {
      "cell_type": "markdown",
      "source": [
        "#6. How do you tell the difference between the equal to and assignment operators?Describe a condition and when you would use one.\n",
        "\n",
        "Ans:  \n",
        "     Equal to (==) operator that evaluates two expressions to see if they are equal and returns true if they are equal and false if they are not.\n",
        "     \n",
        " The assignment operator(=) is used to assign a value to a variable.\n",
        "\n",
        "     "
      ],
      "metadata": {
        "id": "epdqiG5HjncZ"
      }
    },
    {
      "cell_type": "code",
      "source": [
        "# ==\n",
        "print(11==15)\n",
        "print(20==20)"
      ],
      "metadata": {
        "colab": {
          "base_uri": "https://localhost:8080/"
        },
        "id": "AJj4e1W1h4Su",
        "outputId": "64e0cf16-cc77-4bd4-8a6a-528d9d090b3d"
      },
      "execution_count": 16,
      "outputs": [
        {
          "output_type": "stream",
          "name": "stdout",
          "text": [
            "False\n",
            "True\n"
          ]
        }
      ]
    },
    {
      "cell_type": "code",
      "source": [
        "#  =\n",
        "A = 10\n",
        "print(A)"
      ],
      "metadata": {
        "colab": {
          "base_uri": "https://localhost:8080/"
        },
        "id": "u1ITztmviE6b",
        "outputId": "787a880e-cea6-44e1-d9c2-53520a71f413"
      },
      "execution_count": 17,
      "outputs": [
        {
          "output_type": "stream",
          "name": "stdout",
          "text": [
            "10\n"
          ]
        }
      ]
    },
    {
      "cell_type": "markdown",
      "source": [
        "#7. Identify the three blocks in this code:"
      ],
      "metadata": {
        "id": "ggwCS9E4GEof"
      }
    },
    {
      "cell_type": "code",
      "source": [
        "spam = 0\n",
        "if spam == 10:\n",
        "  print('eggs')\n",
        "if spam > 5:\n",
        "  print('bacon')\n",
        "else:\n",
        "  print('ham')\n",
        "  print('spam')\n",
        "  print('spam')\n"
      ],
      "metadata": {
        "colab": {
          "base_uri": "https://localhost:8080/"
        },
        "id": "AkeUjfAP3z4k",
        "outputId": "ae074001-bf2c-4a8f-ff7d-1fd1db863a8d"
      },
      "execution_count": 9,
      "outputs": [
        {
          "output_type": "stream",
          "name": "stdout",
          "text": [
            "ham\n",
            "spam\n",
            "spam\n"
          ]
        }
      ]
    },
    {
      "cell_type": "markdown",
      "source": [
        "#8. Write code that prints Hello if 1 is stored in spam, prints Howdy if 2 is stored in spam, and prints Greetings! if anything else is stored in spam."
      ],
      "metadata": {
        "id": "8VmmvcDWGgMc"
      }
    },
    {
      "cell_type": "code",
      "source": [
        "spam = int(input(\"enter a number: \"))\n",
        "if spam==1:\n",
        "  print(\"Hello\")\n",
        "elif spam==2:\n",
        "  print(\"Howdy\")\n",
        "else:\n",
        "  print(\"Greetings!\")\n"
      ],
      "metadata": {
        "colab": {
          "base_uri": "https://localhost:8080/"
        },
        "id": "IuraoUBPGiPD",
        "outputId": "fe5a2a59-58a9-4f9e-900a-cca7f4bd022b"
      },
      "execution_count": 13,
      "outputs": [
        {
          "output_type": "stream",
          "name": "stdout",
          "text": [
            "enter a number: 10\n",
            "Greetings!\n"
          ]
        }
      ]
    },
    {
      "cell_type": "markdown",
      "source": [
        "#9. If your programme is stuck in an endless loop, what keys you’ll press?"
      ],
      "metadata": {
        "id": "9T3f2kktcJux"
      }
    },
    {
      "cell_type": "code",
      "source": [
        " cntrl + c"
      ],
      "metadata": {
        "id": "kleEvLEhPo2r"
      },
      "execution_count": null,
      "outputs": []
    },
    {
      "cell_type": "markdown",
      "source": [
        "#10. How can you tell the difference between break and continue?\n"
      ],
      "metadata": {
        "id": "sxx2hplmiVxw"
      }
    },
    {
      "cell_type": "code",
      "source": [
        "# continue - It skips that number\n",
        "for i in range(1,10):\n",
        "  if i==5:\n",
        "    continue\n",
        "  print(i)"
      ],
      "metadata": {
        "colab": {
          "base_uri": "https://localhost:8080/"
        },
        "id": "eWAhmrZXiXwS",
        "outputId": "49a1e906-0111-4d74-e206-35853ede7ce9"
      },
      "execution_count": 11,
      "outputs": [
        {
          "output_type": "stream",
          "name": "stdout",
          "text": [
            "1\n",
            "2\n",
            "3\n",
            "4\n",
            "6\n",
            "7\n",
            "8\n",
            "9\n"
          ]
        }
      ]
    },
    {
      "cell_type": "code",
      "source": [
        "#break - it come out from the loop\n",
        "for i in range(1,10):\n",
        "  if i==5:\n",
        "    break\n",
        "  print(i)"
      ],
      "metadata": {
        "colab": {
          "base_uri": "https://localhost:8080/"
        },
        "id": "DkXXfmTsipj1",
        "outputId": "896bccdf-c3cb-48e1-e366-e621da27418d"
      },
      "execution_count": 12,
      "outputs": [
        {
          "output_type": "stream",
          "name": "stdout",
          "text": [
            "1\n",
            "2\n",
            "3\n",
            "4\n"
          ]
        }
      ]
    },
    {
      "cell_type": "markdown",
      "source": [
        "#11. In a for loop, what is the difference between range(10), range(0, 10), and range(0, 10, 1)?\n",
        "\n",
        "Ans:\n",
        "All do the same thing...\n",
        "\n",
        "examples below:"
      ],
      "metadata": {
        "id": "r11DFyNUc6jO"
      }
    },
    {
      "cell_type": "code",
      "source": [
        "for i in range(10):\n",
        "  print(i)"
      ],
      "metadata": {
        "colab": {
          "base_uri": "https://localhost:8080/"
        },
        "id": "QPYe8za_case",
        "outputId": "a772bf0b-fd83-4275-8fb1-aec13c3dbb87"
      },
      "execution_count": 7,
      "outputs": [
        {
          "output_type": "stream",
          "name": "stdout",
          "text": [
            "0\n",
            "1\n",
            "2\n",
            "3\n",
            "4\n",
            "5\n",
            "6\n",
            "7\n",
            "8\n",
            "9\n"
          ]
        }
      ]
    },
    {
      "cell_type": "code",
      "source": [
        "for i in range(0,10):\n",
        "  print(i)"
      ],
      "metadata": {
        "colab": {
          "base_uri": "https://localhost:8080/"
        },
        "id": "A5JDu2hlcgRR",
        "outputId": "a32b3546-5521-49fa-a86a-8f021dc92072"
      },
      "execution_count": 3,
      "outputs": [
        {
          "output_type": "stream",
          "name": "stdout",
          "text": [
            "0\n",
            "1\n",
            "2\n",
            "3\n",
            "4\n",
            "5\n",
            "6\n",
            "7\n",
            "8\n",
            "9\n"
          ]
        }
      ]
    },
    {
      "cell_type": "code",
      "source": [
        "for i in range(0,10,1):\n",
        "  print(i)"
      ],
      "metadata": {
        "colab": {
          "base_uri": "https://localhost:8080/"
        },
        "id": "q9fzgCQxcqU-",
        "outputId": "2efc185d-38fd-4b35-edbf-728a1ed8c19c"
      },
      "execution_count": 5,
      "outputs": [
        {
          "output_type": "stream",
          "name": "stdout",
          "text": [
            "0\n",
            "1\n",
            "2\n",
            "3\n",
            "4\n",
            "5\n",
            "6\n",
            "7\n",
            "8\n",
            "9\n"
          ]
        }
      ]
    },
    {
      "cell_type": "markdown",
      "source": [
        "#12. Write a short program that prints the numbers 1 to 10 using a for loop. Then write an equivalent program that prints the numbers 1 to 10 using a while loop."
      ],
      "metadata": {
        "id": "DllvQB4vhRnl"
      }
    },
    {
      "cell_type": "code",
      "source": [
        "# for loop\n",
        "for i in range(1,11):\n",
        "  print(i)"
      ],
      "metadata": {
        "colab": {
          "base_uri": "https://localhost:8080/"
        },
        "id": "8qyUSv5PhVIr",
        "outputId": "ec775806-64cb-4c0e-e0f5-7f1468974dd7"
      },
      "execution_count": 9,
      "outputs": [
        {
          "output_type": "stream",
          "name": "stdout",
          "text": [
            "1\n",
            "2\n",
            "3\n",
            "4\n",
            "5\n",
            "6\n",
            "7\n",
            "8\n",
            "9\n",
            "10\n"
          ]
        }
      ]
    },
    {
      "cell_type": "code",
      "source": [
        "# while loop\n",
        "i=1\n",
        "while i<11:\n",
        "  print(i)\n",
        "  i+=1"
      ],
      "metadata": {
        "colab": {
          "base_uri": "https://localhost:8080/"
        },
        "id": "a7im9KawhsEr",
        "outputId": "0ce34e90-e2dd-4b52-ecb8-4a84ee324e95"
      },
      "execution_count": 10,
      "outputs": [
        {
          "output_type": "stream",
          "name": "stdout",
          "text": [
            "1\n",
            "2\n",
            "3\n",
            "4\n",
            "5\n",
            "6\n",
            "7\n",
            "8\n",
            "9\n",
            "10\n"
          ]
        }
      ]
    },
    {
      "cell_type": "markdown",
      "source": [
        "#13. If you had a function named bacon() inside a module named spam, how would you call it after importing spam?\n",
        "\n",
        "Ans:\n",
        "function can be called with spam.bacon()"
      ],
      "metadata": {
        "id": "CvGyFHxTjdh0"
      }
    }
  ]
}