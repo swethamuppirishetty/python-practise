{
  "nbformat": 4,
  "nbformat_minor": 0,
  "metadata": {
    "colab": {
      "provenance": []
    },
    "kernelspec": {
      "name": "python3",
      "display_name": "Python 3"
    },
    "language_info": {
      "name": "python"
    }
  },
  "cells": [
    {
      "cell_type": "markdown",
      "source": [
        "#1. What is the name of the feature responsible for generating Regex objects?"
      ],
      "metadata": {
        "id": "Kx1RtqXk4PhU"
      }
    },
    {
      "cell_type": "markdown",
      "source": [
        "The re.compile() function returns Regex objects."
      ],
      "metadata": {
        "id": "N9748UHb4V9P"
      }
    },
    {
      "cell_type": "markdown",
      "source": [
        "#2. Why do raw strings often appear in Regex objects?"
      ],
      "metadata": {
        "id": "EFk78ezV79DM"
      }
    },
    {
      "cell_type": "markdown",
      "source": [
        "So you don't have to escape backslashes. For example, instead of needing to use '\\\\d' for a digit, you can instead use r'\\d'.\n"
      ],
      "metadata": {
        "id": "VlZD1Xye8D4c"
      }
    },
    {
      "cell_type": "markdown",
      "source": [
        "#3. What is the return value of the search() method?"
      ],
      "metadata": {
        "id": "IENoVaIG8OBn"
      }
    },
    {
      "cell_type": "markdown",
      "source": [
        "The function searches for some substring in a string and returns a match object if found, else it returns none"
      ],
      "metadata": {
        "id": "a9rBeoZB9mHl"
      }
    },
    {
      "cell_type": "code",
      "source": [
        "import re \n",
        "mystr = \"swetha is good 123 girl\"\n",
        "print(re.search(r'\\d{3}',mystr))"
      ],
      "metadata": {
        "colab": {
          "base_uri": "https://localhost:8080/"
        },
        "id": "Q73QG-b7-d59",
        "outputId": "b1598492-3eb1-4dbf-cd8b-a35de29deb78"
      },
      "execution_count": null,
      "outputs": [
        {
          "output_type": "stream",
          "name": "stdout",
          "text": [
            "<re.Match object; span=(15, 18), match='123'>\n"
          ]
        }
      ]
    },
    {
      "cell_type": "markdown",
      "source": [
        "#4. From a Match item, how do you get the actual strings that match the pattern?"
      ],
      "metadata": {
        "id": "gUCf557u_2PE"
      }
    },
    {
      "cell_type": "markdown",
      "source": [
        "group() method returns strings of the matched text."
      ],
      "metadata": {
        "id": "v0SPYq3R_7PA"
      }
    },
    {
      "cell_type": "markdown",
      "source": [
        "#5. In the regex which created from the r'(\\d\\d\\d)-(\\d\\d\\d-\\d\\d\\d\\d)', what does group zero cover? Group 2? Group 1?"
      ],
      "metadata": {
        "id": "e2A1OoMYAJr6"
      }
    },
    {
      "cell_type": "markdown",
      "source": [
        "group 0 covers the whole matching text, for example '555-555-5555'\n",
        "        group 1 covers the group in the first set of parentheses, for example '555'\n",
        "        group 2 covers the group in the second set of parentheses, for example '555-5555'"
      ],
      "metadata": {
        "id": "EMndYNg9AOW2"
      }
    },
    {
      "cell_type": "code",
      "source": [
        "import re\n",
        "mystr='555-555-5555'\n",
        "match=re.search(r'(\\d\\d\\d)-(\\d\\d\\d-\\d\\d\\d\\d)','555-555-5555')\n",
        "\n",
        "print(match.group(1))"
      ],
      "metadata": {
        "colab": {
          "base_uri": "https://localhost:8080/"
        },
        "id": "KhzSSj3QAlrl",
        "outputId": "181f6a9d-5820-4670-83ab-80ed7b12e875"
      },
      "execution_count": null,
      "outputs": [
        {
          "output_type": "stream",
          "name": "stdout",
          "text": [
            "555\n"
          ]
        }
      ]
    },
    {
      "cell_type": "markdown",
      "source": [
        "#6. . In standard expression syntax, parentheses and intervals have distinct meanings. How can you tell a regex that you want it to fit real parentheses and periods?"
      ],
      "metadata": {
        "id": "vL0oMLECB5M_"
      }
    },
    {
      "cell_type": "markdown",
      "source": [
        "You could escape these characters:\n",
        "\\( \n",
        "\\) \n",
        "\\."
      ],
      "metadata": {
        "id": "AU-iSadsB-yY"
      }
    },
    {
      "cell_type": "markdown",
      "source": [
        "#7. . The findall() method returns a string list or a list of string tuples. What causes it to return one of the two options?"
      ],
      "metadata": {
        "id": "fFI3DEu2GbD8"
      }
    },
    {
      "cell_type": "markdown",
      "source": [
        "If you use grouping parentheses, (), in the regular expression it will return a list of tuples. If you don't use groups, it will return a list of strings."
      ],
      "metadata": {
        "id": "3yKxXr2BG2Zx"
      }
    },
    {
      "cell_type": "code",
      "source": [
        "import re\n",
        "\n",
        "\n",
        "print(re.findall(r'[Gg]eeks', 'GeeksforGeeks: \\\n",
        "\t\t\t\tA computer science portal for geeks'))\n"
      ],
      "metadata": {
        "colab": {
          "base_uri": "https://localhost:8080/"
        },
        "id": "YeCGS8C9HG54",
        "outputId": "322f528d-1a9a-4c35-d1ed-f61d9861d6b1"
      },
      "execution_count": null,
      "outputs": [
        {
          "output_type": "stream",
          "name": "stdout",
          "text": [
            "['Geeks', 'Geeks', 'geeks']\n"
          ]
        }
      ]
    },
    {
      "cell_type": "markdown",
      "source": [
        "#8. In standard expressions, what does the | character mean?"
      ],
      "metadata": {
        "id": "pOVkP94eHFgV"
      }
    },
    {
      "cell_type": "markdown",
      "source": [
        "It signifies Boolean or."
      ],
      "metadata": {
        "id": "dHKyM-XDHR0d"
      }
    },
    {
      "cell_type": "markdown",
      "source": [
        "#9. In regular expressions, what does the character stand for?"
      ],
      "metadata": {
        "id": "E-wG2_NcHX5K"
      }
    },
    {
      "cell_type": "markdown",
      "source": [
        "characters enclosed within square brackets. \n",
        "It specifies the characters that will successfully match a single character from a given input string."
      ],
      "metadata": {
        "id": "Wjn_H6wSHeb5"
      }
    },
    {
      "cell_type": "markdown",
      "source": [
        "#10. .In regular expressions, what is the difference between the + and * characters?"
      ],
      "metadata": {
        "id": "SVCW2T7gHt_p"
      }
    },
    {
      "cell_type": "markdown",
      "source": [
        " \n",
        "\n",
        " (*) --> Any number of occurrences (including 0 occurrences) \n",
        "\n",
        " (+) -->\tOne or more occurrences"
      ],
      "metadata": {
        "id": "QwoMCYmCHyep"
      }
    },
    {
      "cell_type": "code",
      "source": [
        "mystr=\"swetha is good girl\"\n",
        "patt=re.compile(r'e+')\n",
        "\n",
        "matches=patt.finditer(mystr)\n",
        "for match in matches:\n",
        "  print(match)\n"
      ],
      "metadata": {
        "colab": {
          "base_uri": "https://localhost:8080/"
        },
        "id": "jpwi6k5C81gZ",
        "outputId": "d45a4574-e111-4c83-b518-702629e661b3"
      },
      "execution_count": null,
      "outputs": [
        {
          "output_type": "stream",
          "name": "stdout",
          "text": [
            "<re.Match object; span=(2, 3), match='e'>\n"
          ]
        }
      ]
    },
    {
      "cell_type": "markdown",
      "source": [
        "#11. What is the difference between {4} and {4,5} in regular expression?"
      ],
      "metadata": {
        "id": "2k5uo9GYJn9M"
      }
    },
    {
      "cell_type": "markdown",
      "source": [
        "{4} means match exactly 4 times.\n",
        "          {4,5} means match  4 or 5 times."
      ],
      "metadata": {
        "id": "ofR1fpKnJuEE"
      }
    },
    {
      "cell_type": "code",
      "source": [
        "mystr=\"sweeeetha is good girl\"\n",
        "patt=re.compile(r'e{4}')\n",
        "\n",
        "matches=patt.finditer(mystr)\n",
        "for match in matches:\n",
        "  print(match)"
      ],
      "metadata": {
        "colab": {
          "base_uri": "https://localhost:8080/"
        },
        "id": "tBRVwpQjKDQG",
        "outputId": "4a0effea-1207-4e61-8a0a-8e9edf30c138"
      },
      "execution_count": null,
      "outputs": [
        {
          "output_type": "stream",
          "name": "stdout",
          "text": [
            "<re.Match object; span=(2, 6), match='eeee'>\n"
          ]
        }
      ]
    },
    {
      "cell_type": "markdown",
      "source": [
        "#12. What do you mean by the \\d, \\w, and \\s shorthand character classes signify in regular expressions?"
      ],
      "metadata": {
        "id": "H1w4yG8IKe8d"
      }
    },
    {
      "cell_type": "markdown",
      "source": [
        "\\w – matches a word character\n",
        "\n",
        "\\d – matches digit character\n",
        "\n",
        "\\s – matches whitespace character "
      ],
      "metadata": {
        "id": "CKdHMaEljFcU"
      }
    },
    {
      "cell_type": "markdown",
      "source": [
        "#13. What do means by \\D, \\W, and \\S shorthand character classes signify in regular expressions?"
      ],
      "metadata": {
        "id": "-WAtL5AMjehV"
      }
    },
    {
      "cell_type": "markdown",
      "source": [
        "\\D stands for any character that is not a numeric digit.\n",
        "\\W stands for any character that is not a letter, digit, or underscore.\n",
        "\\S stands for any character that is not a space, tab, or newline."
      ],
      "metadata": {
        "id": "-4r-WO97jnX5"
      }
    },
    {
      "cell_type": "markdown",
      "source": [
        "#14. What is the difference between .*? and .*?"
      ],
      "metadata": {
        "id": "-Qfn0rOxkLBL"
      }
    },
    {
      "cell_type": "markdown",
      "source": [
        ".* - > The dot-star uses greedy mode: It will always try to match as much text as possible.\n",
        ".*? - > To match any and all text in a non-greedy fashion, use the dot, star, and question mark (.*?). Like with braces, \n",
        "the question mark tells Python to match in a non-greedy way."
      ],
      "metadata": {
        "id": "3rn0t2D4kQqJ"
      }
    },
    {
      "cell_type": "code",
      "source": [
        "import re\n",
        "greedyRegex = re.compile(r'<.*>')\n",
        "mo = greedyRegex.search('<To serve man> for dinner.>')\n",
        "mo.group()"
      ],
      "metadata": {
        "colab": {
          "base_uri": "https://localhost:8080/",
          "height": 35
        },
        "id": "Ewj-LsuFq4AH",
        "outputId": "4f357230-48d6-4f9b-c3d5-840245221a53"
      },
      "execution_count": null,
      "outputs": [
        {
          "output_type": "execute_result",
          "data": {
            "text/plain": [
              "'<To serve man> for dinner.>'"
            ],
            "application/vnd.google.colaboratory.intrinsic+json": {
              "type": "string"
            }
          },
          "metadata": {},
          "execution_count": 2
        }
      ]
    },
    {
      "cell_type": "code",
      "source": [
        "import re\n",
        "nongreedyRegex = re.compile(r'<.*?>')\n",
        "mo = nongreedyRegex.search('<To serve man> for dinner.>')\n",
        "mo.group()"
      ],
      "metadata": {
        "colab": {
          "base_uri": "https://localhost:8080/",
          "height": 35
        },
        "id": "NoVTivelrGdz",
        "outputId": "53f91ea9-0d66-4004-ee79-30e7f02585b8"
      },
      "execution_count": null,
      "outputs": [
        {
          "output_type": "execute_result",
          "data": {
            "text/plain": [
              "'<To serve man>'"
            ],
            "application/vnd.google.colaboratory.intrinsic+json": {
              "type": "string"
            }
          },
          "metadata": {},
          "execution_count": 3
        }
      ]
    },
    {
      "cell_type": "markdown",
      "source": [
        "#15. What is the syntax for matching both numbers and lowercase letters with a character class?"
      ],
      "metadata": {
        "id": "EAVP2QvgHYI2"
      }
    },
    {
      "cell_type": "markdown",
      "source": [
        "Either [0-9a-z] or [a-z0-9]"
      ],
      "metadata": {
        "id": "qmOpw0GeHeBQ"
      }
    },
    {
      "cell_type": "markdown",
      "source": [
        "#16. What is the procedure for making a normal expression in regax case insensitive?"
      ],
      "metadata": {
        "id": "2wqWG7aHpTmv"
      }
    },
    {
      "cell_type": "markdown",
      "source": [
        "Passing re.I or re.IGNORECASE as the second argument to re.compile() will make the matching case insensitive"
      ],
      "metadata": {
        "id": "3KuPCgwosO3_"
      }
    },
    {
      "cell_type": "code",
      "source": [
        "casesen = re.compile(r'machine', re.I)\n",
        "casesen.search('Machine learning is part of data science').group()"
      ],
      "metadata": {
        "colab": {
          "base_uri": "https://localhost:8080/",
          "height": 35
        },
        "id": "cqgcr-uIrv9s",
        "outputId": "75ec396c-f482-477e-ab38-70f271bbb898"
      },
      "execution_count": null,
      "outputs": [
        {
          "output_type": "execute_result",
          "data": {
            "text/plain": [
              "'Machine'"
            ],
            "application/vnd.google.colaboratory.intrinsic+json": {
              "type": "string"
            }
          },
          "metadata": {},
          "execution_count": 6
        }
      ]
    },
    {
      "cell_type": "markdown",
      "source": [
        "#17. What does the . character normally match? What does it match if re.DOTALL is passed as 2nd argument in re.compile()?"
      ],
      "metadata": {
        "id": "hOhLMWqetqW5"
      }
    },
    {
      "cell_type": "markdown",
      "source": [
        " The . character normally matches any character except the newline character. \n",
        "If re.DOTALL is passed as the second argument to re.compile(), then the dot will also match newline characters.\n",
        "re.DOTALL OR re.S"
      ],
      "metadata": {
        "id": "tKS9ZHNoz5Lc"
      }
    },
    {
      "cell_type": "code",
      "source": [
        "import re\n",
        "mystr=\"\"\"swe\n",
        "is good girl\"\"\"\n",
        "print(re.search(r'swe.*good',mystr,re.DOTALL).group())"
      ],
      "metadata": {
        "colab": {
          "base_uri": "https://localhost:8080/"
        },
        "id": "U-Hv29Lftvx9",
        "outputId": "f70217b7-75ed-450c-f964-6bcd717928d6"
      },
      "execution_count": null,
      "outputs": [
        {
          "output_type": "stream",
          "name": "stdout",
          "text": [
            "swe\n",
            "is good\n"
          ]
        }
      ]
    },
    {
      "cell_type": "markdown",
      "source": [
        "#18. . If numReg = re.compile(r'\\d+'), what will numRegex.sub('X', '11 drummers, 10 pipers, five rings, 4 hen') return?"
      ],
      "metadata": {
        "id": "zEacQ2RB1P5U"
      }
    },
    {
      "cell_type": "code",
      "source": [
        "import re\n",
        "numReg = re.compile(r'\\d+')\n",
        "numReg.sub('X', '11 drummers, 10 pipers, five rings, 4 hen') "
      ],
      "metadata": {
        "id": "0cQSe4ZG78kl",
        "colab": {
          "base_uri": "https://localhost:8080/",
          "height": 35
        },
        "outputId": "6d2123ba-8f00-4f4f-e982-64aed4328551"
      },
      "execution_count": null,
      "outputs": [
        {
          "output_type": "execute_result",
          "data": {
            "text/plain": [
              "'X drummers, X pipers, five rings, X hen'"
            ],
            "application/vnd.google.colaboratory.intrinsic+json": {
              "type": "string"
            }
          },
          "metadata": {},
          "execution_count": 19
        }
      ]
    },
    {
      "cell_type": "markdown",
      "source": [
        "#19. What does passing re.VERBOSE as the 2nd argument to re.compile() allow to do?"
      ],
      "metadata": {
        "id": "Wj6PGhcA2a7F"
      }
    },
    {
      "cell_type": "markdown",
      "source": [
        "The re.VERBOSE argument allows you to add whitespace and comments to the string passed to re.compile()"
      ],
      "metadata": {
        "id": "ElrTTgUv5sEF"
      }
    },
    {
      "cell_type": "code",
      "execution_count": null,
      "metadata": {
        "id": "tsdCIdWE4MMC",
        "colab": {
          "base_uri": "https://localhost:8080/"
        },
        "outputId": "a4baf408-9971-4b97-8534-6532a3be17ef"
      },
      "outputs": [
        {
          "output_type": "stream",
          "name": "stdout",
          "text": [
            "<re.Match object; span=(0, 13), match='swe@gmail.com'>\n"
          ]
        }
      ],
      "source": [
        "regex_email = re.compile(r\"\"\"\n",
        "            ^([a-z0-9_\\.-]+)              # local Part\n",
        "            @                             # single @ sign\n",
        "            ([0-9a-z\\.-]+)                # Domain name\n",
        "            \\.                            # single Dot .\n",
        "            ([a-z]{2,6})$                 # Top level Domain  \n",
        "             \"\"\",re.VERBOSE)  \n",
        "result = regex_email.search(\"swe@gmail.com\")\n",
        "print(result)"
      ]
    },
    {
      "cell_type": "markdown",
      "source": [
        "#20. How would you write a regex that match a number with comma for every three digits? It must match the given following:\n",
        "'42'\n",
        "\n",
        "'1,234'\n",
        "\n",
        "'6,368,745'\n",
        "\n",
        "but not the following:\n",
        "\n",
        "'12,34,567' (which has only two digits between the commas)\n",
        "\n",
        "'1234' (which lacks commas)\n"
      ],
      "metadata": {
        "id": "ma1Ghzv56Iof"
      }
    },
    {
      "cell_type": "code",
      "source": [
        "import re\n",
        "patt=re.compile(r'^\\d{1,2}(,\\d{3})*$')\n",
        "result=patt.search(\"6,368,745\")\n",
        "print(bool(result))"
      ],
      "metadata": {
        "colab": {
          "base_uri": "https://localhost:8080/"
        },
        "id": "tJ3I3Zqq6H8n",
        "outputId": "538bd074-5869-4d95-a15e-4df21ba7494c"
      },
      "execution_count": 6,
      "outputs": [
        {
          "output_type": "stream",
          "name": "stdout",
          "text": [
            "True\n"
          ]
        }
      ]
    },
    {
      "cell_type": "markdown",
      "source": [
        "#21. . How would you write a regex that matches the full name of someone whose last name is Watanabe? You can assume that the first name that comes before it will always be one word that begins with a capital letter. The regex must match the following:\n",
        "'Haruto Watanabe'\n",
        "\n",
        "'Alice Watanabe'\n",
        "\n",
        "'RoboCop Watanabe'\n",
        "\n",
        "but not the following:\n",
        "\n",
        "'haruto Watanabe' (where the first name is not capitalized)\n",
        "\n",
        "'Mr. Watanabe' (where the preceding word has a nonletter character)\n",
        "\n",
        "'Watanabe' (which has no first name)\n",
        "\n",
        "'Haruto watanabe' (where Watanabe is not capitalized)\n"
      ],
      "metadata": {
        "id": "x60rpef5NeWV"
      }
    },
    {
      "cell_type": "code",
      "source": [
        "import re\n",
        "patt=re.compile(r'[A-Z][a-z]*\\sWatanabe')\n",
        "mo1=patt.search('Robocop Watanabe')\n",
        "print(mo1.group())"
      ],
      "metadata": {
        "colab": {
          "base_uri": "https://localhost:8080/"
        },
        "id": "KWQOEXPtOQhz",
        "outputId": "d363f42a-8934-40f0-873b-bb526347b299"
      },
      "execution_count": 29,
      "outputs": [
        {
          "output_type": "stream",
          "name": "stdout",
          "text": [
            "Robocop Watanabe\n"
          ]
        }
      ]
    },
    {
      "cell_type": "code",
      "source": [
        "import re\n",
        "patt=re.compile(r'[A-Z][a-z]*\\sWatanabe')\n",
        "mo1=patt.search('Watanabe')\n",
        "print(mo1.group())"
      ],
      "metadata": {
        "colab": {
          "base_uri": "https://localhost:8080/",
          "height": 201
        },
        "id": "DFItWDEERlbn",
        "outputId": "b588f1da-d534-4c9f-d597-ebb4952c968f"
      },
      "execution_count": 30,
      "outputs": [
        {
          "output_type": "error",
          "ename": "AttributeError",
          "evalue": "ignored",
          "traceback": [
            "\u001b[0;31m---------------------------------------------------------------------------\u001b[0m",
            "\u001b[0;31mAttributeError\u001b[0m                            Traceback (most recent call last)",
            "\u001b[0;32m<ipython-input-30-ef2957ca0a5d>\u001b[0m in \u001b[0;36m<module>\u001b[0;34m\u001b[0m\n\u001b[1;32m      2\u001b[0m \u001b[0mpatt\u001b[0m\u001b[0;34m=\u001b[0m\u001b[0mre\u001b[0m\u001b[0;34m.\u001b[0m\u001b[0mcompile\u001b[0m\u001b[0;34m(\u001b[0m\u001b[0;34mr'[A-Z][a-z]*\\sWatanabe'\u001b[0m\u001b[0;34m)\u001b[0m\u001b[0;34m\u001b[0m\u001b[0;34m\u001b[0m\u001b[0m\n\u001b[1;32m      3\u001b[0m \u001b[0mmo1\u001b[0m\u001b[0;34m=\u001b[0m\u001b[0mpatt\u001b[0m\u001b[0;34m.\u001b[0m\u001b[0msearch\u001b[0m\u001b[0;34m(\u001b[0m\u001b[0;34m'Watanabe'\u001b[0m\u001b[0;34m)\u001b[0m\u001b[0;34m\u001b[0m\u001b[0;34m\u001b[0m\u001b[0m\n\u001b[0;32m----> 4\u001b[0;31m \u001b[0mprint\u001b[0m\u001b[0;34m(\u001b[0m\u001b[0mmo1\u001b[0m\u001b[0;34m.\u001b[0m\u001b[0mgroup\u001b[0m\u001b[0;34m(\u001b[0m\u001b[0;34m)\u001b[0m\u001b[0;34m)\u001b[0m\u001b[0;34m\u001b[0m\u001b[0;34m\u001b[0m\u001b[0m\n\u001b[0m",
            "\u001b[0;31mAttributeError\u001b[0m: 'NoneType' object has no attribute 'group'"
          ]
        }
      ]
    },
    {
      "cell_type": "markdown",
      "source": [
        "#22. How would you write a regex that matches a sentence where the first word is either Alice, Bob, or Carol; the second word is either eats, pets, or throws; the third word is apples, cats, or baseballs; and the sentence ends with a period? This regex should be case-insensitive. It must match the following:\n",
        "'Alice eats apples.'\n",
        "\n",
        "'Bob pets cats.'\n",
        "\n",
        "'Carol throws baseballs.'\n",
        "\n",
        "'Alice throws Apples.'\n",
        "\n",
        "'BOB EATS CATS.'\n",
        "\n",
        "but not the following:\n",
        "\n",
        "'RoboCop eats apples.'\n",
        "\n",
        "'ALICE THROWS FOOTBALLS.'\n",
        "\n",
        "'Carol eats 7 cats.'\n"
      ],
      "metadata": {
        "id": "fj0T7_ONRpDe"
      }
    },
    {
      "cell_type": "code",
      "source": [
        "name = re.compile(r'(Alice|Bob|Carol)\\s(eats|pets|throws)\\s(apples|cats|baseballs)\\.', re.IGNORECASE)\n",
        "\n",
        "mo1 = name.search('alice EAts apples.')\n",
        "mo1.group()"
      ],
      "metadata": {
        "colab": {
          "base_uri": "https://localhost:8080/",
          "height": 35
        },
        "id": "ZUyIw6iZRyug",
        "outputId": "930f15e9-8059-4542-eb13-aece587aa8c7"
      },
      "execution_count": 32,
      "outputs": [
        {
          "output_type": "execute_result",
          "data": {
            "text/plain": [
              "'alice EAts apples.'"
            ],
            "application/vnd.google.colaboratory.intrinsic+json": {
              "type": "string"
            }
          },
          "metadata": {},
          "execution_count": 32
        }
      ]
    },
    {
      "cell_type": "code",
      "source": [
        "name = re.compile(r'(Alice|Bob|Carol)\\s(eats|pets|throws)\\s(apples|cats|baseballs)\\.', re.IGNORECASE)\n",
        "\n",
        "mo1 = name.search('Alice eats apples')\n",
        "mo1.group()"
      ],
      "metadata": {
        "colab": {
          "base_uri": "https://localhost:8080/",
          "height": 201
        },
        "id": "o8TWkwbPTJIE",
        "outputId": "58506e05-95fb-4067-b1d9-4569aeb46a9d"
      },
      "execution_count": 33,
      "outputs": [
        {
          "output_type": "error",
          "ename": "AttributeError",
          "evalue": "ignored",
          "traceback": [
            "\u001b[0;31m---------------------------------------------------------------------------\u001b[0m",
            "\u001b[0;31mAttributeError\u001b[0m                            Traceback (most recent call last)",
            "\u001b[0;32m<ipython-input-33-3730cac55e75>\u001b[0m in \u001b[0;36m<module>\u001b[0;34m\u001b[0m\n\u001b[1;32m      2\u001b[0m \u001b[0;34m\u001b[0m\u001b[0m\n\u001b[1;32m      3\u001b[0m \u001b[0mmo1\u001b[0m \u001b[0;34m=\u001b[0m \u001b[0mname\u001b[0m\u001b[0;34m.\u001b[0m\u001b[0msearch\u001b[0m\u001b[0;34m(\u001b[0m\u001b[0;34m'Alice eats apples'\u001b[0m\u001b[0;34m)\u001b[0m\u001b[0;34m\u001b[0m\u001b[0;34m\u001b[0m\u001b[0m\n\u001b[0;32m----> 4\u001b[0;31m \u001b[0mmo1\u001b[0m\u001b[0;34m.\u001b[0m\u001b[0mgroup\u001b[0m\u001b[0;34m(\u001b[0m\u001b[0;34m)\u001b[0m\u001b[0;34m\u001b[0m\u001b[0;34m\u001b[0m\u001b[0m\n\u001b[0m",
            "\u001b[0;31mAttributeError\u001b[0m: 'NoneType' object has no attribute 'group'"
          ]
        }
      ]
    },
    {
      "cell_type": "markdown",
      "source": [],
      "metadata": {
        "id": "8tg3dufcNmzD"
      }
    }
  ]
}