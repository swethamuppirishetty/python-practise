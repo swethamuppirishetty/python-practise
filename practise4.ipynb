{
  "nbformat": 4,
  "nbformat_minor": 0,
  "metadata": {
    "colab": {
      "provenance": []
    },
    "kernelspec": {
      "name": "python3",
      "display_name": "Python 3"
    },
    "language_info": {
      "name": "python"
    }
  },
  "cells": [
    {
      "cell_type": "markdown",
      "source": [
        "#1. What exactly is []?"
      ],
      "metadata": {
        "id": "_V2doWcTX4H-"
      }
    },
    {
      "cell_type": "markdown",
      "source": [
        "The empty list value, it has no items."
      ],
      "metadata": {
        "id": "vjrF05GzX844"
      }
    },
    {
      "cell_type": "markdown",
      "source": [
        "#2. In a list of values stored in a variable called spam, how would you assign the value 'hello' as the third value? (Assume [2, 4, 6, 8, 10] are in spam.)"
      ],
      "metadata": {
        "id": "IXjkQqk0aCZp"
      }
    },
    {
      "cell_type": "code",
      "execution_count": 1,
      "metadata": {
        "id": "R3q0obOpXsf6"
      },
      "outputs": [],
      "source": [
        "spam=[2, 4, 6, 8, 10] "
      ]
    },
    {
      "cell_type": "code",
      "source": [
        "spam[2]='hello'"
      ],
      "metadata": {
        "id": "GSFCgi7paRKu"
      },
      "execution_count": 3,
      "outputs": []
    },
    {
      "cell_type": "code",
      "source": [
        "spam"
      ],
      "metadata": {
        "colab": {
          "base_uri": "https://localhost:8080/"
        },
        "id": "dI6pEzQ5ajUX",
        "outputId": "1346b0c5-be3f-4b0f-8463-160d0d920549"
      },
      "execution_count": 4,
      "outputs": [
        {
          "output_type": "execute_result",
          "data": {
            "text/plain": [
              "[2, 4, 'hello', 8, 10]"
            ]
          },
          "metadata": {},
          "execution_count": 4
        }
      ]
    },
    {
      "cell_type": "markdown",
      "source": [
        "Let's pretend the spam includes the list ['a', 'b', 'c', 'd'] for the next three queries."
      ],
      "metadata": {
        "id": "bjzZ-XRCcHgS"
      }
    },
    {
      "cell_type": "code",
      "source": [
        "spam=['a', 'b', 'c', 'd'] "
      ],
      "metadata": {
        "id": "ig6Dp5kFcI3A"
      },
      "execution_count": 11,
      "outputs": []
    },
    {
      "cell_type": "markdown",
      "source": [
        "#3. What is the value of spam[int(int('3' * 2) / 11)]?"
      ],
      "metadata": {
        "id": "ygecadp5bP1h"
      }
    },
    {
      "cell_type": "code",
      "source": [
        "spam"
      ],
      "metadata": {
        "colab": {
          "base_uri": "https://localhost:8080/"
        },
        "id": "CXw01G59bb8l",
        "outputId": "006f62ad-702a-41e0-86ef-bef85f96e7aa"
      },
      "execution_count": 12,
      "outputs": [
        {
          "output_type": "execute_result",
          "data": {
            "text/plain": [
              "['a', 'b', 'c', 'd']"
            ]
          },
          "metadata": {},
          "execution_count": 12
        }
      ]
    },
    {
      "cell_type": "code",
      "source": [
        "int('3' *2)"
      ],
      "metadata": {
        "colab": {
          "base_uri": "https://localhost:8080/"
        },
        "id": "O6W7SaqmbEjg",
        "outputId": "75e63f8b-d063-4ff7-f93d-3ec8206d11e5"
      },
      "execution_count": 13,
      "outputs": [
        {
          "output_type": "execute_result",
          "data": {
            "text/plain": [
              "33"
            ]
          },
          "metadata": {},
          "execution_count": 13
        }
      ]
    },
    {
      "cell_type": "code",
      "source": [
        "spam[int(int('3' * 2) / 11)]"
      ],
      "metadata": {
        "colab": {
          "base_uri": "https://localhost:8080/",
          "height": 35
        },
        "id": "9C9gmqcsbVqN",
        "outputId": "f6025fac-e623-4931-9006-80d04a66f728"
      },
      "execution_count": 14,
      "outputs": [
        {
          "output_type": "execute_result",
          "data": {
            "text/plain": [
              "'d'"
            ],
            "application/vnd.google.colaboratory.intrinsic+json": {
              "type": "string"
            }
          },
          "metadata": {},
          "execution_count": 14
        }
      ]
    },
    {
      "cell_type": "markdown",
      "source": [
        "#4. What is the value of spam[-1]?"
      ],
      "metadata": {
        "id": "GzpTGCJNbhDo"
      }
    },
    {
      "cell_type": "code",
      "source": [
        "spam[-1]"
      ],
      "metadata": {
        "colab": {
          "base_uri": "https://localhost:8080/",
          "height": 35
        },
        "id": "Z7TADlLXblG0",
        "outputId": "5d69a876-45bb-419a-93b2-472c035fb069"
      },
      "execution_count": 15,
      "outputs": [
        {
          "output_type": "execute_result",
          "data": {
            "text/plain": [
              "'d'"
            ],
            "application/vnd.google.colaboratory.intrinsic+json": {
              "type": "string"
            }
          },
          "metadata": {},
          "execution_count": 15
        }
      ]
    },
    {
      "cell_type": "markdown",
      "source": [
        "#5. What is the value of spam[:2]?"
      ],
      "metadata": {
        "id": "VvenF8Imbory"
      }
    },
    {
      "cell_type": "code",
      "source": [
        "spam"
      ],
      "metadata": {
        "colab": {
          "base_uri": "https://localhost:8080/"
        },
        "id": "Ob1Pp0djbv3P",
        "outputId": "b22135e2-d014-4787-fe70-b752042cfd18"
      },
      "execution_count": 16,
      "outputs": [
        {
          "output_type": "execute_result",
          "data": {
            "text/plain": [
              "['a', 'b', 'c', 'd']"
            ]
          },
          "metadata": {},
          "execution_count": 16
        }
      ]
    },
    {
      "cell_type": "code",
      "source": [
        "spam[:2]"
      ],
      "metadata": {
        "colab": {
          "base_uri": "https://localhost:8080/"
        },
        "id": "0SzAPQ3Cbzxh",
        "outputId": "7c55d9e2-39d9-4e9e-e72b-33abdcd291ca"
      },
      "execution_count": 17,
      "outputs": [
        {
          "output_type": "execute_result",
          "data": {
            "text/plain": [
              "['a', 'b']"
            ]
          },
          "metadata": {},
          "execution_count": 17
        }
      ]
    },
    {
      "cell_type": "markdown",
      "source": [
        "Let's pretend bacon has the list [3.14, 'cat,' 11, 'cat,' True] for the next three questions."
      ],
      "metadata": {
        "id": "PlPJ6ojScZkR"
      }
    },
    {
      "cell_type": "code",
      "source": [
        "bacon= [3.14, 'cat', 11, 'cat', True] "
      ],
      "metadata": {
        "id": "OF2kZxC9caqa"
      },
      "execution_count": 20,
      "outputs": []
    },
    {
      "cell_type": "markdown",
      "source": [
        "#6. What is the value of bacon.index('cat')?"
      ],
      "metadata": {
        "id": "fMPRQ55-b_Ny"
      }
    },
    {
      "cell_type": "code",
      "source": [
        "bacon.index('cat')"
      ],
      "metadata": {
        "colab": {
          "base_uri": "https://localhost:8080/"
        },
        "id": "Y4u12vN5csBN",
        "outputId": "1882f964-e018-4d18-c5d6-4ac3de56361f"
      },
      "execution_count": 21,
      "outputs": [
        {
          "output_type": "execute_result",
          "data": {
            "text/plain": [
              "1"
            ]
          },
          "metadata": {},
          "execution_count": 21
        }
      ]
    },
    {
      "cell_type": "markdown",
      "source": [
        "#7. How does bacon.append(99) change the look of the list value in bacon?"
      ],
      "metadata": {
        "id": "zcinK4QpcwTo"
      }
    },
    {
      "cell_type": "code",
      "source": [
        "bacon.append(99)"
      ],
      "metadata": {
        "id": "LWKqFvc9c1jA"
      },
      "execution_count": 22,
      "outputs": []
    },
    {
      "cell_type": "code",
      "source": [
        "bacon"
      ],
      "metadata": {
        "colab": {
          "base_uri": "https://localhost:8080/"
        },
        "id": "-F6b9U_Vc4BY",
        "outputId": "f1974481-d8ec-41a8-ed6e-61f290bd34a0"
      },
      "execution_count": 23,
      "outputs": [
        {
          "output_type": "execute_result",
          "data": {
            "text/plain": [
              "[3.14, 'cat', 11, 'cat', True, 99]"
            ]
          },
          "metadata": {},
          "execution_count": 23
        }
      ]
    },
    {
      "cell_type": "markdown",
      "source": [
        "#8. How does bacon.remove('cat') change the look of the list in bacon?"
      ],
      "metadata": {
        "id": "dtlf-s5Lc59Y"
      }
    },
    {
      "cell_type": "code",
      "source": [
        "bacon.remove('cat') "
      ],
      "metadata": {
        "id": "mcnR709Ec9-g"
      },
      "execution_count": 24,
      "outputs": []
    },
    {
      "cell_type": "code",
      "source": [
        "bacon"
      ],
      "metadata": {
        "colab": {
          "base_uri": "https://localhost:8080/"
        },
        "id": "ArDQpNhmdB1M",
        "outputId": "e18e4da0-c355-42ec-9fb3-f7701f798527"
      },
      "execution_count": 25,
      "outputs": [
        {
          "output_type": "execute_result",
          "data": {
            "text/plain": [
              "[3.14, 11, 'cat', True, 99]"
            ]
          },
          "metadata": {},
          "execution_count": 25
        }
      ]
    },
    {
      "cell_type": "markdown",
      "source": [
        "#9. What are the list concatenation and list replication operators?"
      ],
      "metadata": {
        "id": "MMzOE2BddQ8G"
      }
    },
    {
      "cell_type": "markdown",
      "source": [
        "The operator for list concatenation is +, while the operator for replication is *."
      ],
      "metadata": {
        "id": "N1uchAYkd78j"
      }
    },
    {
      "cell_type": "markdown",
      "source": [
        "#10. What is difference between the list methods append() and insert()?"
      ],
      "metadata": {
        "id": "LiGdEm5sd9Kh"
      }
    },
    {
      "cell_type": "markdown",
      "source": [
        "While append() will add values only to the end of a list, insert() can add them anywhere in the list."
      ],
      "metadata": {
        "id": "5Iu-C2meeN_T"
      }
    },
    {
      "cell_type": "markdown",
      "source": [
        "#11. What are the two methods for removing items from a list?\n",
        "\n",
        "\n",
        "\n",
        "\n",
        "\n",
        "\n"
      ],
      "metadata": {
        "id": "wnMkRUO4ePMa"
      }
    },
    {
      "cell_type": "markdown",
      "source": [
        "del statement and the remove() method"
      ],
      "metadata": {
        "id": "tGKgfnJJefkR"
      }
    },
    {
      "cell_type": "markdown",
      "source": [
        "#12. Describe how list values and string values are identical."
      ],
      "metadata": {
        "id": "JNkPDeP9eqkb"
      }
    },
    {
      "cell_type": "markdown",
      "source": [
        "Both lists and strings can be passed to len(), have indexes and slices, be used in for loops, be concatenated or replicated, and be used with the in and not in operators."
      ],
      "metadata": {
        "id": "3Ss1BZLvex0d"
      }
    },
    {
      "cell_type": "markdown",
      "source": [
        "#13. What's the difference between tuples and lists?"
      ],
      "metadata": {
        "id": "GbzMN-iRfHmG"
      }
    },
    {
      "cell_type": "markdown",
      "source": [
        "Lists are mutable, they can have values added, removed, or changed. Tuples are immutable; they cannot be changed at all. Also, tuples are written using parentheses, ( ), while lists use the square brackets, [  ]."
      ],
      "metadata": {
        "id": "ixuSApnDfLBf"
      }
    },
    {
      "cell_type": "markdown",
      "source": [
        "#14. How do you type a tuple value that only contains the integer 42?"
      ],
      "metadata": {
        "id": "G_0Q-6Bofa_Z"
      }
    },
    {
      "cell_type": "code",
      "source": [
        "(42,)"
      ],
      "metadata": {
        "colab": {
          "base_uri": "https://localhost:8080/"
        },
        "id": "r4-PulaIfoH7",
        "outputId": "dc714ceb-ddbf-4575-dec7-9ec366fe8785"
      },
      "execution_count": 26,
      "outputs": [
        {
          "output_type": "execute_result",
          "data": {
            "text/plain": [
              "(42,)"
            ]
          },
          "metadata": {},
          "execution_count": 26
        }
      ]
    },
    {
      "cell_type": "markdown",
      "source": [
        "#15. How do you get a list value's tuple form? How do you get a tuple value's list form?"
      ],
      "metadata": {
        "id": "w6dspLQcfgNR"
      }
    },
    {
      "cell_type": "markdown",
      "source": [
        "tuple() and list() functions, respectively"
      ],
      "metadata": {
        "id": "6EgALpVKgVgx"
      }
    },
    {
      "cell_type": "markdown",
      "source": [
        "#16. Variables that \"contain\" list values are not necessarily lists themselves. Instead, what do they contain?"
      ],
      "metadata": {
        "id": "T3Ssoj6AgW07"
      }
    },
    {
      "cell_type": "markdown",
      "source": [
        "They contain references to list values."
      ],
      "metadata": {
        "id": "mGNXWQCGguxp"
      }
    },
    {
      "cell_type": "markdown",
      "source": [
        "#17. How do you distinguish between copy.copy() and copy.deepcopy()?"
      ],
      "metadata": {
        "id": "gs7t9ln5gwRm"
      }
    },
    {
      "cell_type": "markdown",
      "source": [
        "The copy.copy() function will do a shallow copy of a list, while the copy.deepcopy() function will do a deep copy of a list. That is, only copy.deepcopy() will duplicate any lists inside the list."
      ],
      "metadata": {
        "id": "3xiXA0ptg17w"
      }
    },
    
