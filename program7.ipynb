{
 "cells": [
  {
   "attachments": {},
   "cell_type": "markdown",
   "metadata": {},
   "source": [
    "#1.\tWrite a Python Program to find sum of array?"
   ]
  },
  {
   "cell_type": "code",
   "execution_count": 1,
   "metadata": {},
   "outputs": [
    {
     "name": "stdout",
     "output_type": "stream",
     "text": [
      "63\n"
     ]
    }
   ],
   "source": [
    "arr=[3,5,6,10,33,4,2]\n",
    "print(sum(arr))"
   ]
  },
  {
   "attachments": {},
   "cell_type": "markdown",
   "metadata": {},
   "source": [
    "#2.\tWrite a Python Program to find largest element in an array?"
   ]
  },
  {
   "cell_type": "code",
   "execution_count": 2,
   "metadata": {},
   "outputs": [
    {
     "data": {
      "text/plain": [
       "33"
      ]
     },
     "execution_count": 2,
     "metadata": {},
     "output_type": "execute_result"
    }
   ],
   "source": [
    "max(arr)"
   ]
  },
  {
   "attachments": {},
   "cell_type": "markdown",
   "metadata": {},
   "source": [
    "#3.\tWrite a Python Program for array rotation?"
   ]
  },
  {
   "cell_type": "code",
   "execution_count": 5,
   "metadata": {},
   "outputs": [
    {
     "name": "stdout",
     "output_type": "stream",
     "text": [
      "The List is:  [11, 12, 13, 14, 15, 16, 17, 18]\n",
      "The rotated list is: \n",
      "[15, 16, 17, 18, 11, 12, 13, 14]\n"
     ]
    }
   ],
   "source": [
    "def rotate_List1(arry, E, K): \n",
    "  arry[:] = arry[E:K] + arry[0:E]  \n",
    "  return arry  \n",
    "\n",
    "arry = [11, 12, 13, 14, 15, 16, 17, 18]  \n",
    "print (\"The List is: \", arry)  \n",
    "print (\"The rotated list is: \")  \n",
    "print (rotate_List1(arry, 4, len(arry)))  "
   ]
  },
  {
   "attachments": {},
   "cell_type": "markdown",
   "metadata": {},
   "source": [
    "#4.\tWrite a Python Program to Split the array and add the first part to the end?"
   ]
  },
  {
   "cell_type": "code",
   "execution_count": 7,
   "metadata": {},
   "outputs": [
    {
     "name": "stdout",
     "output_type": "stream",
     "text": [
      "The List is:  [13, 14, 15, 16, 17, 18, 11, 12]\n"
     ]
    }
   ],
   "source": [
    "def List1(arry, k): \n",
    "  arry[:] = arry[k:] + arry[:k]  \n",
    "  return arry  \n",
    "\n",
    "arry = [11, 12, 13, 14, 15, 16, 17, 18]  \n",
    "position=int(input())\n",
    "print (\"The List is: \", List1(arry, position))  \n"
   ]
  },
  {
   "attachments": {},
   "cell_type": "markdown",
   "metadata": {},
   "source": [
    "#5.\tWrite a Python Program to check if given array is Monotonic?"
   ]
  },
  {
   "cell_type": "markdown",
   "metadata": {},
   "source": [
    "An array is monotonic if it is either monotone increasing or monotone decreasing. "
   ]
  },
  {
   "cell_type": "code",
   "execution_count": 8,
   "metadata": {},
   "outputs": [
    {
     "name": "stdout",
     "output_type": "stream",
     "text": [
      "True\n"
     ]
    }
   ],
   "source": [
    "def isMonotonic(A):\n",
    "\tx, y = [], []\n",
    "\tx.extend(A)\n",
    "\ty.extend(A)\n",
    "\tx.sort()\n",
    "\ty.sort(reverse=True)\n",
    "\tif(x == A or y == A):\n",
    "\t\treturn True\n",
    "\treturn False\n",
    "\n",
    "A = [6, 5, 4, 4]\n",
    "print(isMonotonic(A))\n"
   ]
  }
 ],
 "metadata": {
  "kernelspec": {
   "display_name": "base",
   "language": "python",
   "name": "python3"
  },
  "language_info": {
   "codemirror_mode": {
    "name": "ipython",
    "version": 3
   },
   "file_extension": ".py",
   "mimetype": "text/x-python",
   "name": "python",
   "nbconvert_exporter": "python",
   "pygments_lexer": "ipython3",
   "version": "3.9.12"
  },
  "orig_nbformat": 4,
  "vscode": {
   "interpreter": {
    "hash": "4d09e1192033bba9526f296292156c6c8529fa0781013076c42ddd3132c2c239"
   }
  }
 },
 "nbformat": 4,
 "nbformat_minor": 2
}
