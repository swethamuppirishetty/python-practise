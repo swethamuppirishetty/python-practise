{
  "nbformat": 4,
  "nbformat_minor": 0,
  "metadata": {
    "colab": {
      "provenance": []
    },
    "kernelspec": {
      "name": "python3",
      "display_name": "Python 3"
    },
    "language_info": {
      "name": "python"
    }
  },
  "cells": [
    {
      "cell_type": "markdown",
      "source": [
        "#1. What does an empty dictionary's code look like?"
      ],
      "metadata": {
        "id": "8NWhwWXRz6mw"
      }
    },
    {
      "cell_type": "code",
      "source": [
        "item={}"
      ],
      "metadata": {
        "id": "JwDToVRr2l6F"
      },
      "execution_count": 1,
      "outputs": []
    },
    {
      "cell_type": "code",
      "source": [
        "type(item)"
      ],
      "metadata": {
        "colab": {
          "base_uri": "https://localhost:8080/"
        },
        "id": "qPxSvvwU2vAE",
        "outputId": "220f1cdb-1364-428a-b0c2-b6c4434a306b"
      },
      "execution_count": 2,
      "outputs": [
        {
          "output_type": "execute_result",
          "data": {
            "text/plain": [
              "dict"
            ]
          },
          "metadata": {},
          "execution_count": 2
        }
      ]
    },
    {
      "cell_type": "markdown",
      "source": [
        "#2. What is the value of a dictionary value with the key 'foo' and the value 42?"
      ],
      "metadata": {
        "id": "7651Ugz60RCz"
      }
    },
    {
      "cell_type": "code",
      "source": [
        "dict1={'foo':42}"
      ],
      "metadata": {
        "id": "lbGXgUv-27O-"
      },
      "execution_count": 6,
      "outputs": []
    },
    {
      "cell_type": "markdown",
      "source": [
        "#3. What is the most significant distinction between a dictionary and a list?"
      ],
      "metadata": {
        "id": "a3RmXY9I3wyi"
      }
    },
    {
      "cell_type": "markdown",
      "source": [
        "List    |    Dictionary\n",
        "-|-\n",
        "List is created by placing elements in [ ] separated by commas “, “ | Dictionary is created by placing elements in { } as “key”:”value”, each key value pair is separated by commas “, “\n",
        "The indices of list are integers starting from 0. | The keys of dictionary can be of any data type.\n",
        "The elements are accessed via indices. | The elements are accessed via key-values.\n",
        "The order of the elements entered are maintained.\t| There is no guarantee for maintaining order."
      ],
      "metadata": {
        "id": "2ypMApHR4gyS"
      }
    },
    {
      "cell_type": "markdown",
      "source": [
        "#4. What happens if you try to access spam['foo'] if spam is {'bar': 100}?"
      ],
      "metadata": {
        "id": "GnzzX2UE5fKZ"
      }
    },
    {
      "cell_type": "markdown",
      "source": [
        "it throws KeyError."
      ],
      "metadata": {
        "id": "A0rnk6Vg6ARq"
      }
    },
    {
      "cell_type": "code",
      "source": [
        "spam={'bar': 100}"
      ],
      "metadata": {
        "id": "YbNbmudR31dy"
      },
      "execution_count": 7,
      "outputs": []
    },
    {
      "cell_type": "code",
      "source": [
        "spam['foo']"
      ],
      "metadata": {
        "colab": {
          "base_uri": "https://localhost:8080/",
          "height": 166
        },
        "id": "6bQ7tGot57K-",
        "outputId": "f2d3ce48-73ca-452d-e556-1f0aa0c597d9"
      },
      "execution_count": 8,
      "outputs": [
        {
          "output_type": "error",
          "ename": "KeyError",
          "evalue": "ignored",
          "traceback": [
            "\u001b[0;31m---------------------------------------------------------------------------\u001b[0m",
            "\u001b[0;31mKeyError\u001b[0m                                  Traceback (most recent call last)",
            "\u001b[0;32m<ipython-input-8-9b5a94d1de8d>\u001b[0m in \u001b[0;36m<module>\u001b[0;34m\u001b[0m\n\u001b[0;32m----> 1\u001b[0;31m \u001b[0mspam\u001b[0m\u001b[0;34m[\u001b[0m\u001b[0;34m'foo'\u001b[0m\u001b[0;34m]\u001b[0m\u001b[0;34m\u001b[0m\u001b[0;34m\u001b[0m\u001b[0m\n\u001b[0m",
            "\u001b[0;31mKeyError\u001b[0m: 'foo'"
          ]
        }
      ]
    },
    {
      "cell_type": "markdown",
      "source": [
        "#5. If a dictionary is stored in spam, what is the difference between the expressions 'cat' in spam and 'cat' in spam.keys()?"
      ],
      "metadata": {
        "id": "FIpr_XUi6JyD"
      }
    },
    {
      "cell_type": "markdown",
      "source": [
        "There is no difference, the expression \" 'cat' in spam \" checks whether 'cat' is a key in spam."
      ],
      "metadata": {
        "id": "g4ikMcZXL1Uh"
      }
    },
    {
      "cell_type": "markdown",
      "source": [
        "#6. If a dictionary is stored in spam, what is the difference between the expressions 'cat' in spam and 'cat' in spam.values()?"
      ],
      "metadata": {
        "id": "Ticf1mN0L5oL"
      }
    },
    {
      "cell_type": "markdown",
      "source": [
        "'cat' in spam checks whether'cat' exists as a key in spam. 'cat' in spam.values() checks whether 'cat' is a value in spam."
      ],
      "metadata": {
        "id": "gClekdk6L-0u"
      }
    },
    {
      "cell_type": "markdown",
      "source": [
        "#7. What is a shortcut for the following code?\n",
        "if 'color' not in spam:\n",
        "spam['color'] = 'black'\n"
      ],
      "metadata": {
        "id": "Arg5jOo_MOIP"
      }
    },
    {
      "cell_type": "code",
      "source": [
        "spam = {'name': 'Pooka', 'age': 5}\n",
        "if 'color' not in spam:\n",
        "  spam['color'] = 'black'\n",
        "spam.setdefault('color','black')"
      ],
      "metadata": {
        "colab": {
          "base_uri": "https://localhost:8080/",
          "height": 35
        },
        "id": "Cfcvc9gI6Oxs",
        "outputId": "206eee93-3e02-4b4d-9a08-e82079bc6509"
      },
      "execution_count": 6,
      "outputs": [
        {
          "output_type": "execute_result",
          "data": {
            "text/plain": [
              "'black'"
            ],
            "application/vnd.google.colaboratory.intrinsic+json": {
              "type": "string"
            }
          },
          "metadata": {},
          "execution_count": 6
        }
      ]
    },
    {
      "cell_type": "code",
      "source": [
        "spam"
      ],
      "metadata": {
        "colab": {
          "base_uri": "https://localhost:8080/"
        },
        "id": "oxevo-MpODAW",
        "outputId": "29ff8c62-7439-41aa-a17f-588c24e4d2ef"
      },
      "execution_count": 7,
      "outputs": [
        {
          "output_type": "execute_result",
          "data": {
            "text/plain": [
              "{'name': 'Pooka', 'age': 5, 'color': 'black'}"
            ]
          },
          "metadata": {},
          "execution_count": 7
        }
      ]
    },
    {
      "cell_type": "markdown",
      "source": [
        "#8. How do you \"pretty print\" dictionary values using which module and function?"
      ],
      "metadata": {
        "id": "o2qxxtkmOG1H"
      }
    },
    {
      "cell_type": "markdown",
      "source": [
        "The module is pprint.\n",
        "The functions are pprint.pprint() and pprint.pformat()."
      ],
      "metadata": {
        "id": "T2m4V3R7OMK-"
      }
    },
    {
      "cell_type": "code",
      "source": [
        "s2=42"
      ],
      "metadata": {
        "id": "5MMDsmK8Q25H"
      },
      "execution_count": 9,
      "outputs": []
    },
    {
      "cell_type": "code",
      "source": [
        "print(dir(s2))"
      ],
      "metadata": {
        "colab": {
          "base_uri": "https://localhost:8080/"
        },
        "id": "W3xHoJuwQ6lF",
        "outputId": "d0fbada4-c5ab-46f8-ad06-30c0bce4c4c5"
      },
      "execution_count": 11,
      "outputs": [
        {
          "output_type": "stream",
          "name": "stdout",
          "text": [
            "['__abs__', '__add__', '__and__', '__bool__', '__ceil__', '__class__', '__delattr__', '__dir__', '__divmod__', '__doc__', '__eq__', '__float__', '__floor__', '__floordiv__', '__format__', '__ge__', '__getattribute__', '__getnewargs__', '__gt__', '__hash__', '__index__', '__init__', '__init_subclass__', '__int__', '__invert__', '__le__', '__lshift__', '__lt__', '__mod__', '__mul__', '__ne__', '__neg__', '__new__', '__or__', '__pos__', '__pow__', '__radd__', '__rand__', '__rdivmod__', '__reduce__', '__reduce_ex__', '__repr__', '__rfloordiv__', '__rlshift__', '__rmod__', '__rmul__', '__ror__', '__round__', '__rpow__', '__rrshift__', '__rshift__', '__rsub__', '__rtruediv__', '__rxor__', '__setattr__', '__sizeof__', '__str__', '__sub__', '__subclasshook__', '__truediv__', '__trunc__', '__xor__', 'as_integer_ratio', 'bit_length', 'conjugate', 'denominator', 'from_bytes', 'imag', 'numerator', 'real', 'to_bytes']\n"
          ]
        }
      ]
    },
    {
      "cell_type": "code",
      "source": [
        "from pprint import pprint\n",
        "pprint(dir(s2))"
      ],
      "metadata": {
        "colab": {
          "base_uri": "https://localhost:8080/"
        },
        "id": "yv8bBHBlQzeX",
        "outputId": "d3721fa8-4ef1-4bbe-d51e-8cbcd85076ce"
      },
      "execution_count": 14,
      "outputs": [
        {
          "output_type": "stream",
          "name": "stdout",
          "text": [
            "['__abs__',\n",
            " '__add__',\n",
            " '__and__',\n",
            " '__bool__',\n",
            " '__ceil__',\n",
            " '__class__',\n",
            " '__delattr__',\n",
            " '__dir__',\n",
            " '__divmod__',\n",
            " '__doc__',\n",
            " '__eq__',\n",
            " '__float__',\n",
            " '__floor__',\n",
            " '__floordiv__',\n",
            " '__format__',\n",
            " '__ge__',\n",
            " '__getattribute__',\n",
            " '__getnewargs__',\n",
            " '__gt__',\n",
            " '__hash__',\n",
            " '__index__',\n",
            " '__init__',\n",
            " '__init_subclass__',\n",
            " '__int__',\n",
            " '__invert__',\n",
            " '__le__',\n",
            " '__lshift__',\n",
            " '__lt__',\n",
            " '__mod__',\n",
            " '__mul__',\n",
            " '__ne__',\n",
            " '__neg__',\n",
            " '__new__',\n",
            " '__or__',\n",
            " '__pos__',\n",
            " '__pow__',\n",
            " '__radd__',\n",
            " '__rand__',\n",
            " '__rdivmod__',\n",
            " '__reduce__',\n",
            " '__reduce_ex__',\n",
            " '__repr__',\n",
            " '__rfloordiv__',\n",
            " '__rlshift__',\n",
            " '__rmod__',\n",
            " '__rmul__',\n",
            " '__ror__',\n",
            " '__round__',\n",
            " '__rpow__',\n",
            " '__rrshift__',\n",
            " '__rshift__',\n",
            " '__rsub__',\n",
            " '__rtruediv__',\n",
            " '__rxor__',\n",
            " '__setattr__',\n",
            " '__sizeof__',\n",
            " '__str__',\n",
            " '__sub__',\n",
            " '__subclasshook__',\n",
            " '__truediv__',\n",
            " '__trunc__',\n",
            " '__xor__',\n",
            " 'as_integer_ratio',\n",
            " 'bit_length',\n",
            " 'conjugate',\n",
            " 'denominator',\n",
            " 'from_bytes',\n",
            " 'imag',\n",
            " 'numerator',\n",
            " 'real',\n",
            " 'to_bytes']\n"
          ]
        }
      ]
    }
  ]
}