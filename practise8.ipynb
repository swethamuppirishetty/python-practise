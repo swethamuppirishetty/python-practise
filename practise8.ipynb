{
  "nbformat": 4,
  "nbformat_minor": 0,
  "metadata": {
    "colab": {
      "provenance": []
    },
    "kernelspec": {
      "name": "python3",
      "display_name": "Python 3"
    },
    "language_info": {
      "name": "python"
    }
  },
  "cells": [
    {
      "cell_type": "markdown",
      "source": [
        "#1. Is the Python Standard Library included with PyInputPlus?"
      ],
      "metadata": {
        "id": "JIXZbdwCE2sv"
      }
    },
    {
      "cell_type": "markdown",
      "source": [
        "-->No, PyInputPlus is not included in python standard library.\n",
        " PyInputPlus will keep asking the user for text until they enter valid input.\n",
        "\n",
        "--> we have to install it seperately using pip keyword\n",
        "\n",
        "syntax:\n",
        "pip install PyInputPlus\n"
      ],
      "metadata": {
        "id": "X3waswppE88o"
      }
    },
    {
      "cell_type": "code",
      "source": [
        "# pip install PyInputPlus"
      ],
      "metadata": {
        "id": "DRtTFroNHs5N"
      },
      "execution_count": 18,
      "outputs": []
    },
    {
      "cell_type": "markdown",
      "source": [
        "#2. Why is PyInputPlus commonly imported with import pyinputplus as pypi?"
      ],
      "metadata": {
        "id": "SstR7A6JGI7V"
      }
    },
    {
      "cell_type": "markdown",
      "source": [
        "pypi is alias of pyinputplus. \n",
        "\n",
        "In programs, we can use pypi is shortname for pyinputplus, instead of using pyinputplus. \n",
        "\n"
      ],
      "metadata": {
        "id": "7kgoEpkhGMsa"
      }
    },
    {
      "cell_type": "markdown",
      "source": [
        "#3. How do you distinguish between inputInt() and inputFloat()?"
      ],
      "metadata": {
        "id": "-dheuVghG9ia"
      }
    },
    {
      "cell_type": "markdown",
      "source": [
        "inputInt() : Accepts an integer value. This also takes additional parameters ‘min’, ‘max’, ‘greaterThan’ and ‘lessThan’  for bounds. Returns an int.\n",
        "\n",
        "inputFloat() : Accepts a floating-point numeric value. Also takes additional ‘min’, ‘max’, ‘greaterThan’ and ‘lessThan’  parameters. Returns a float."
      ],
      "metadata": {
        "id": "w-QGIZW7HCTN"
      }
    },
    {
      "cell_type": "markdown",
      "source": [
        "#4. Using PyInputPlus, how do you ensure that the user enters a whole number between 0 and 99?"
      ],
      "metadata": {
        "id": "hjEB0EUoHNaw"
      }
    },
    {
      "cell_type": "code",
      "source": [
        "import pyinputplus as pyip\n",
        "\n",
        "\n",
        "inp = pyip.inputInt(min = 0, max=99)\n",
        "\n",
        "print(inp)\n"
      ],
      "metadata": {
        "colab": {
          "base_uri": "https://localhost:8080/"
        },
        "id": "288VHC1cHnLB",
        "outputId": "4a301480-decd-4937-d54c-819fa8b3362f"
      },
      "execution_count": 6,
      "outputs": [
        {
          "output_type": "stream",
          "name": "stdout",
          "text": [
            "-1\n",
            "Number must be at minimum 0.\n",
            "3\n",
            "3\n"
          ]
        }
      ]
    },
    {
      "cell_type": "markdown",
      "source": [
        "#5. What is transferred to the keyword arguments allowRegexes and blockRegexes?"
      ],
      "metadata": {
        "id": "ZDxf4Y4uJfir"
      }
    },
    {
      "cell_type": "markdown",
      "source": [
        "we can also use regular expressions to specify whether an input is allowed or not. The allowRegexes and blockRegexes \n",
        "keyword arguments take a list of regular expression strings to determine what the PyInputPlus function will accept or \n",
        "reject as valid input."
      ],
      "metadata": {
        "id": "DKsic2iuJhO_"
      }
    },
    {
      "cell_type": "code",
      "source": [
        "import pyinputplus as pyip\n",
        "inp=pyip.inputNum(allowRegexes=[r'(I|V|X|L|C|D|M)+', r'zero'])"
      ],
      "metadata": {
        "colab": {
          "base_uri": "https://localhost:8080/"
        },
        "id": "3li_aP5jKtUK",
        "outputId": "07bb0bc9-378b-42b3-bab7-25be069e4271"
      },
      "execution_count": 17,
      "outputs": [
        {
          "name": "stdout",
          "output_type": "stream",
          "text": [
            "zero\n"
          ]
        }
      ]
    },
    {
      "cell_type": "code",
      "source": [
        "import pyinputplus as pyip\n",
        "inp=pyip.inputNum(blockRegexes=[r'[02468]$'])"
      ],
      "metadata": {
        "colab": {
          "base_uri": "https://localhost:8080/"
        },
        "id": "oYnSvK60LRlJ",
        "outputId": "51592b6e-46c3-4581-8df2-254538ca80cd"
      },
      "execution_count": 20,
      "outputs": [
        {
          "name": "stdout",
          "output_type": "stream",
          "text": [
            "24\n",
            "This response is invalid.\n",
            "35\n"
          ]
        }
      ]
    },
    {
      "cell_type": "markdown",
      "source": [
        "#6. If a blank input is entered three times, what does inputStr(limit=3) do?"
      ],
      "metadata": {
        "id": "zSwwPPrNLLw6"
      }
    },
    {
      "cell_type": "code",
      "source": [
        "inp=pyip.inputStr(limit=3)\n",
        "inp"
      ],
      "metadata": {
        "colab": {
          "base_uri": "https://localhost:8080/",
          "height": 572
        },
        "id": "Z8t529PoLo_C",
        "outputId": "1dc2ee36-872d-40bc-b430-1323ac4d3beb"
      },
      "execution_count": 28,
      "outputs": [
        {
          "output_type": "stream",
          "name": "stdout",
          "text": [
            "\n",
            "Blank values are not allowed.\n",
            "\n",
            "Blank values are not allowed.\n",
            "\n",
            "Blank values are not allowed.\n"
          ]
        },
        {
          "output_type": "error",
          "ename": "RetryLimitException",
          "evalue": "ignored",
          "traceback": [
            "\u001b[0;31m---------------------------------------------------------------------------\u001b[0m",
            "\u001b[0;31mValidationException\u001b[0m                       Traceback (most recent call last)",
            "\u001b[0;32m/usr/local/lib/python3.8/dist-packages/pyinputplus/__init__.py\u001b[0m in \u001b[0;36m_genericInput\u001b[0;34m(prompt, default, timeout, limit, applyFunc, validationFunc, postValidateApplyFunc, passwordMask)\u001b[0m\n\u001b[1;32m    166\u001b[0m         \u001b[0;32mtry\u001b[0m\u001b[0;34m:\u001b[0m\u001b[0;34m\u001b[0m\u001b[0;34m\u001b[0m\u001b[0m\n\u001b[0;32m--> 167\u001b[0;31m             possibleNewUserInput = validationFunc(\n\u001b[0m\u001b[1;32m    168\u001b[0m                 \u001b[0muserInput\u001b[0m\u001b[0;34m\u001b[0m\u001b[0;34m\u001b[0m\u001b[0m\n",
            "\u001b[0;32m/usr/local/lib/python3.8/dist-packages/pyinputplus/__init__.py\u001b[0m in \u001b[0;36m<lambda>\u001b[0;34m(value)\u001b[0m\n\u001b[1;32m    242\u001b[0m \u001b[0;34m\u001b[0m\u001b[0m\n\u001b[0;32m--> 243\u001b[0;31m     validationFunc = lambda value: pysv._prevalidationCheck(\n\u001b[0m\u001b[1;32m    244\u001b[0m         \u001b[0mvalue\u001b[0m\u001b[0;34m,\u001b[0m \u001b[0mblank\u001b[0m\u001b[0;34m=\u001b[0m\u001b[0mblank\u001b[0m\u001b[0;34m,\u001b[0m \u001b[0mstrip\u001b[0m\u001b[0;34m=\u001b[0m\u001b[0mstrip\u001b[0m\u001b[0;34m,\u001b[0m \u001b[0mallowRegexes\u001b[0m\u001b[0;34m=\u001b[0m\u001b[0mallowRegexes\u001b[0m\u001b[0;34m,\u001b[0m \u001b[0mblockRegexes\u001b[0m\u001b[0;34m=\u001b[0m\u001b[0mblockRegexes\u001b[0m\u001b[0;34m,\u001b[0m \u001b[0mexcMsg\u001b[0m\u001b[0;34m=\u001b[0m\u001b[0;32mNone\u001b[0m\u001b[0;34m,\u001b[0m\u001b[0;34m\u001b[0m\u001b[0;34m\u001b[0m\u001b[0m\n",
            "\u001b[0;32m/usr/local/lib/python3.8/dist-packages/pysimplevalidate/__init__.py\u001b[0m in \u001b[0;36m_prevalidationCheck\u001b[0;34m(value, blank, strip, allowRegexes, blockRegexes, excMsg)\u001b[0m\n\u001b[1;32m    249\u001b[0m         \u001b[0;31m# value is blank but blanks aren't allowed.\u001b[0m\u001b[0;34m\u001b[0m\u001b[0;34m\u001b[0m\u001b[0;34m\u001b[0m\u001b[0m\n\u001b[0;32m--> 250\u001b[0;31m         \u001b[0m_raiseValidationException\u001b[0m\u001b[0;34m(\u001b[0m\u001b[0m_\u001b[0m\u001b[0;34m(\u001b[0m\u001b[0;34m\"Blank values are not allowed.\"\u001b[0m\u001b[0;34m)\u001b[0m\u001b[0;34m,\u001b[0m \u001b[0mexcMsg\u001b[0m\u001b[0;34m)\u001b[0m\u001b[0;34m\u001b[0m\u001b[0;34m\u001b[0m\u001b[0m\n\u001b[0m\u001b[1;32m    251\u001b[0m     \u001b[0;32melif\u001b[0m \u001b[0mblank\u001b[0m \u001b[0;32mand\u001b[0m \u001b[0mvalue\u001b[0m \u001b[0;34m==\u001b[0m \u001b[0;34m\"\"\u001b[0m\u001b[0;34m:\u001b[0m\u001b[0;34m\u001b[0m\u001b[0;34m\u001b[0m\u001b[0m\n",
            "\u001b[0;32m/usr/local/lib/python3.8/dist-packages/pysimplevalidate/__init__.py\u001b[0m in \u001b[0;36m_raiseValidationException\u001b[0;34m(standardExcMsg, customExcMsg)\u001b[0m\n\u001b[1;32m    221\u001b[0m     \u001b[0;32mif\u001b[0m \u001b[0mcustomExcMsg\u001b[0m \u001b[0;32mis\u001b[0m \u001b[0;32mNone\u001b[0m\u001b[0;34m:\u001b[0m\u001b[0;34m\u001b[0m\u001b[0;34m\u001b[0m\u001b[0m\n\u001b[0;32m--> 222\u001b[0;31m         \u001b[0;32mraise\u001b[0m \u001b[0mValidationException\u001b[0m\u001b[0;34m(\u001b[0m\u001b[0mstr\u001b[0m\u001b[0;34m(\u001b[0m\u001b[0mstandardExcMsg\u001b[0m\u001b[0;34m)\u001b[0m\u001b[0;34m)\u001b[0m\u001b[0;34m\u001b[0m\u001b[0;34m\u001b[0m\u001b[0m\n\u001b[0m\u001b[1;32m    223\u001b[0m     \u001b[0;32melse\u001b[0m\u001b[0;34m:\u001b[0m\u001b[0;34m\u001b[0m\u001b[0;34m\u001b[0m\u001b[0m\n",
            "\u001b[0;31mValidationException\u001b[0m: Blank values are not allowed.",
            "\nDuring handling of the above exception, another exception occurred:\n",
            "\u001b[0;31mRetryLimitException\u001b[0m                       Traceback (most recent call last)",
            "\u001b[0;32m<ipython-input-28-12c86028adbb>\u001b[0m in \u001b[0;36m<module>\u001b[0;34m\u001b[0m\n\u001b[0;32m----> 1\u001b[0;31m \u001b[0minp\u001b[0m\u001b[0;34m=\u001b[0m\u001b[0mpyip\u001b[0m\u001b[0;34m.\u001b[0m\u001b[0minputStr\u001b[0m\u001b[0;34m(\u001b[0m\u001b[0mlimit\u001b[0m\u001b[0;34m=\u001b[0m\u001b[0;36m3\u001b[0m\u001b[0;34m)\u001b[0m\u001b[0;34m\u001b[0m\u001b[0;34m\u001b[0m\u001b[0m\n\u001b[0m\u001b[1;32m      2\u001b[0m \u001b[0minp\u001b[0m\u001b[0;34m\u001b[0m\u001b[0;34m\u001b[0m\u001b[0m\n",
            "\u001b[0;32m/usr/local/lib/python3.8/dist-packages/pyinputplus/__init__.py\u001b[0m in \u001b[0;36minputStr\u001b[0;34m(prompt, default, blank, timeout, limit, strip, allowRegexes, blockRegexes, applyFunc, postValidateApplyFunc)\u001b[0m\n\u001b[1;32m    245\u001b[0m     )[1]\n\u001b[1;32m    246\u001b[0m \u001b[0;34m\u001b[0m\u001b[0m\n\u001b[0;32m--> 247\u001b[0;31m     return _genericInput(\n\u001b[0m\u001b[1;32m    248\u001b[0m         \u001b[0mprompt\u001b[0m\u001b[0;34m=\u001b[0m\u001b[0mprompt\u001b[0m\u001b[0;34m,\u001b[0m\u001b[0;34m\u001b[0m\u001b[0;34m\u001b[0m\u001b[0m\n\u001b[1;32m    249\u001b[0m         \u001b[0mdefault\u001b[0m\u001b[0;34m=\u001b[0m\u001b[0mdefault\u001b[0m\u001b[0;34m,\u001b[0m\u001b[0;34m\u001b[0m\u001b[0;34m\u001b[0m\u001b[0m\n",
            "\u001b[0;32m/usr/local/lib/python3.8/dist-packages/pyinputplus/__init__.py\u001b[0m in \u001b[0;36m_genericInput\u001b[0;34m(prompt, default, timeout, limit, applyFunc, validationFunc, postValidateApplyFunc, passwordMask)\u001b[0m\n\u001b[1;32m    186\u001b[0m                 \u001b[0;32melse\u001b[0m\u001b[0;34m:\u001b[0m\u001b[0;34m\u001b[0m\u001b[0;34m\u001b[0m\u001b[0m\n\u001b[1;32m    187\u001b[0m                     \u001b[0;31m# If there is no default, then raise the timeout/limit exception.\u001b[0m\u001b[0;34m\u001b[0m\u001b[0;34m\u001b[0m\u001b[0;34m\u001b[0m\u001b[0m\n\u001b[0;32m--> 188\u001b[0;31m                     \u001b[0;32mraise\u001b[0m \u001b[0mlimitOrTimeoutException\u001b[0m\u001b[0;34m\u001b[0m\u001b[0;34m\u001b[0m\u001b[0m\n\u001b[0m\u001b[1;32m    189\u001b[0m             \u001b[0;32melse\u001b[0m\u001b[0;34m:\u001b[0m\u001b[0;34m\u001b[0m\u001b[0;34m\u001b[0m\u001b[0m\n\u001b[1;32m    190\u001b[0m                 \u001b[0;31m# If there was no timeout/limit exceeded, let the user enter input again.\u001b[0m\u001b[0;34m\u001b[0m\u001b[0;34m\u001b[0m\u001b[0;34m\u001b[0m\u001b[0m\n",
            "\u001b[0;31mRetryLimitException\u001b[0m: "
          ]
        }
      ]
    },
    {
      "cell_type": "markdown",
      "source": [
        "#7. If blank input is entered three times, what does inputStr(limit=3, default='hello') do?"
      ],
      "metadata": {
        "id": "9H2joe6hMAkV"
      }
    },
    {
      "cell_type": "code",
      "source": [
        "inp=pyip.inputStr(limit=3, default='hello')\n",
        "inp\n"
      ],
      "metadata": {
        "colab": {
          "base_uri": "https://localhost:8080/",
          "height": 139
        },
        "id": "YNNA5JPIMGMi",
        "outputId": "1b0431f4-65fa-4de2-87f7-2e2d012155e4"
      },
      "execution_count": 27,
      "outputs": [
        {
          "output_type": "stream",
          "name": "stdout",
          "text": [
            "\n",
            "Blank values are not allowed.\n",
            "\n",
            "Blank values are not allowed.\n",
            "\n",
            "Blank values are not allowed.\n"
          ]
        },
        {
          "output_type": "execute_result",
          "data": {
            "text/plain": [
              "'hello'"
            ],
            "application/vnd.google.colaboratory.intrinsic+json": {
              "type": "string"
            }
          },
          "metadata": {},
          "execution_count": 27
        }
      ]
    }
  ]
}