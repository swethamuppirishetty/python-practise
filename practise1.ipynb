{
  "nbformat": 4,
  "nbformat_minor": 0,
  "metadata": {
    "colab": {
      "provenance": [],
      "collapsed_sections": []
    },
    "kernelspec": {
      "name": "python3",
      "display_name": "Python 3"
    },
    "language_info": {
      "name": "python"
    }
  },
  "cells": [
    {
      "cell_type": "markdown",
      "source": [
        "1. In the below elements which of them are values or an expression? eg:- values can be\n",
        "integer or string and expressions will be mathematical operators.\n",
        "\n"
      ],
      "metadata": {
        "id": "Aaw548NH14uc"
      }
    },
    {
      "cell_type": "code",
      "execution_count": null,
      "metadata": {
        "id": "EA-FDI-011F2"
      },
      "outputs": [],
      "source": [
        "*      --  expression\n",
        "'hello' -- value\n",
        "-87.8   -- value\n",
        "-     -- expression\n",
        "/     -- expression\n",
        "+     -- expression\n",
        "6    -- value"
      ]
    },
    {
      "cell_type": "markdown",
      "source": [
        "#2. What is the difference between string and variable?"
      ],
      "metadata": {
        "id": "B9etKhrz3NET"
      }
    },
    {
      "cell_type": "code",
      "source": [
        "string is a value, which is assigned to a variable.\n",
        "variable is a container, which stores any type of value."
      ],
      "metadata": {
        "id": "zG5eYgpR3MqK"
      },
      "execution_count": null,
      "outputs": []
    },
    {
      "cell_type": "markdown",
      "source": [
        "#3. Describe three different data types."
      ],
      "metadata": {
        "id": "-JLwk_LE4h5M"
      }
    },
    {
      "cell_type": "code",
      "source": [
        " integer -- It includes positive nmbrs, negative nmbrs including zero.   Ex: 23,80,90\n",
        " float   --  It includes fractional nmbrs.  Ex: 20.12\n",
        " string  -- To create string, we can use single and double quotes. Ex: \"swetha\", 'shetty',\"20.33\",\"123\""
      ],
      "metadata": {
        "id": "3Q_V8PEn4q56"
      },
      "execution_count": null,
      "outputs": []
    },
    {
      "cell_type": "markdown",
      "source": [
        "#4. What is an expression made up of? What do all expressions do?"
      ],
      "metadata": {
        "id": "NYdzdJufInob"
      }
    },
    {
      "cell_type": "code",
      "source": [
        "An expression is a combination of operators, constants and variables.\n",
        "An expression must have at least one operand (variable or constant) and have one or more operators. \n",
        "After evaluating an expression, we get a value."
      ],
      "metadata": {
        "id": "sQYLO62OIrF4"
      },
      "execution_count": null,
      "outputs": []
    },
    {
      "cell_type": "markdown",
      "source": [
        "#5.This assignment statements, like spam = 10. What is the difference between an expression and a statement?"
      ],
      "metadata": {
        "id": "sX5DLa0Z618D"
      }
    },
    {
      "cell_type": "code",
      "source": [
        "An expression evaluates to a value. \n",
        "A statement does something.\n",
        "spam = 10    # statement\n",
        "x + 2         # an expression"
      ],
      "metadata": {
        "id": "MJLTWeHh7I8H"
      },
      "execution_count": null,
      "outputs": []
    },
    {
      "cell_type": "markdown",
      "source": [
        "#6. After running the following code, what does the variable bacon contain?\n"
      ],
      "metadata": {
        "id": "F1nMD2OM7q9K"
      }
    },
    {
      "cell_type": "code",
      "source": [
        "bacon = 22\n",
        "bacon + 1\n",
        "bacon"
      ],
      "metadata": {
        "colab": {
          "base_uri": "https://localhost:8080/"
        },
        "id": "li8VVh37700J",
        "outputId": "25b271e9-9702-402c-95e3-a5be72911825"
      },
      "execution_count": 2,
      "outputs": [
        {
          "output_type": "execute_result",
          "data": {
            "text/plain": [
              "22"
            ]
          },
          "metadata": {},
          "execution_count": 2
        }
      ]
    },
    {
      "cell_type": "markdown",
      "source": [
        "#7. What should the values of the following two terms be?\n"
      ],
      "metadata": {
        "id": "H5MPjEm28eWL"
      }
    },
    {
      "cell_type": "code",
      "source": [
        "'spam'+'spamspam'"
      ],
      "metadata": {
        "colab": {
          "base_uri": "https://localhost:8080/",
          "height": 35
        },
        "id": "HWPAJqG18tN-",
        "outputId": "50863ea4-efd0-45dd-b9dc-d538cc5713e1"
      },
      "execution_count": 6,
      "outputs": [
        {
          "output_type": "execute_result",
          "data": {
            "text/plain": [
              "'spamspamspam'"
            ],
            "application/vnd.google.colaboratory.intrinsic+json": {
              "type": "string"
            }
          },
          "metadata": {},
          "execution_count": 6
        }
      ]
    },
    {
      "cell_type": "code",
      "source": [
        "'spam'*3"
      ],
      "metadata": {
        "colab": {
          "base_uri": "https://localhost:8080/",
          "height": 35
        },
        "id": "ZBDjLv1l9INQ",
        "outputId": "a7de15f0-b7d8-4670-ac4e-c8f7ff806b88"
      },
      "execution_count": 5,
      "outputs": [
        {
          "output_type": "execute_result",
          "data": {
            "text/plain": [
              "'spamspamspam'"
            ],
            "application/vnd.google.colaboratory.intrinsic+json": {
              "type": "string"
            }
          },
          "metadata": {},
          "execution_count": 5
        }
      ]
    },
    {
      "cell_type": "markdown",
      "source": [
        "#8.Why is eggs a valid variable name while 100 is invalid?"
      ],
      "metadata": {
        "id": "ZUqO-wbH9Q0K"
      }
    },
    {
      "cell_type": "code",
      "source": [
        "variable name can start with only  alphabets and underscore(_)\n",
        "\n",
        "Ex:  \n",
        "  eggs\n",
        "  eggs10\n",
        "  _eggs\n"
      ],
      "metadata": {
        "id": "t2qZFrTg9Wvw"
      },
      "execution_count": null,
      "outputs": []
    },
    {
      "cell_type": "markdown",
      "source": [
        "#9. What three functions can be used to get the integer, floating-point number, or string version of a value?"
      ],
      "metadata": {
        "id": "us4Ad4k8-Aql"
      }
    },
    {
      "cell_type": "code",
      "source": [
        "int(x)\n",
        "float(x)\n",
        "str(x)"
      ],
      "metadata": {
        "id": "K2w0GiYB_U4e"
      },
      "execution_count": null,
      "outputs": []
    },
    {
      "cell_type": "markdown",
      "source": [
        "#10.Why does this expression cause an error? How can you fix it?"
      ],
      "metadata": {
        "id": "A3AZWQ3B_Vcq"
      }
    },
    {
      "cell_type": "code",
      "source": [
        "'I have eaten ' + str(99)+ ' burritos.';"
      ],
      "metadata": {
        "id": "uU2GHZoR_Z-F"
      },
      "execution_count": 12,
      "outputs": []
    }
  ]
}