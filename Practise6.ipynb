{
  "nbformat": 4,
  "nbformat_minor": 0,
  "metadata": {
    "colab": {
      "provenance": []
    },
    "kernelspec": {
      "name": "python3",
      "display_name": "Python 3"
    },
    "language_info": {
      "name": "python"
    }
  },
  "cells": [
    {
      "cell_type": "markdown",
      "source": [
        "#1. What are escape characters, and how do you use them?"
      ],
      "metadata": {
        "id": "FxeMzakLe3-t"
      }
    },
    {
      "cell_type": "markdown",
      "source": [
        "Escape Characters in python are:\n",
        "Code\tResult\t\n",
        "\\'\tSingle Quote\t\n",
        "\\\\\tBackslash\t\n",
        "\\n\tNew Line\t\n",
        "\\r\tCarriage Return\t\n",
        "\\t\tTab\t\n",
        "\\b\tBackspace\t\n",
        "\\f\tForm Feed\t\n",
        "\\ooo\tOctal value"
      ],
      "metadata": {
        "id": "cDsOXYYHgbvd"
      }
    },
    {
      "cell_type": "markdown",
      "source": [
        "An escape character is a backslash \\ followed by the character you want to insert.\n",
        "\n",
        "Example:"
      ],
      "metadata": {
        "id": "EtR7Kx4OfYn6"
      }
    },
    {
      "cell_type": "code",
      "source": [
        "txt = \"We are the so-called \\\"Vikings\\\" from the north.\"\n",
        "print(txt)"
      ],
      "metadata": {
        "colab": {
          "base_uri": "https://localhost:8080/"
        },
        "id": "Dr8QXIbNe_KA",
        "outputId": "3f6c3a41-d995-4335-f08f-765ba8fbcc60"
      },
      "execution_count": 2,
      "outputs": [
        {
          "output_type": "stream",
          "name": "stdout",
          "text": [
            "We are the so-called \"Vikings\" from the north.\n"
          ]
        }
      ]
    },
    {
      "cell_type": "markdown",
      "source": [
        "#2. What do the escape characters n and t stand for?"
      ],
      "metadata": {
        "id": "uEuiofNPe74d"
      }
    },
    {
      "cell_type": "code",
      "source": [
        "txt = \"Hello\\nWorld!\"\n",
        "print(txt) "
      ],
      "metadata": {
        "colab": {
          "base_uri": "https://localhost:8080/"
        },
        "id": "D3zxvUMDf65F",
        "outputId": "b11376c5-e69a-46d1-8291-9337d3ef06d4"
      },
      "execution_count": 3,
      "outputs": [
        {
          "output_type": "stream",
          "name": "stdout",
          "text": [
            "Hello\n",
            "World!\n"
          ]
        }
      ]
    },
    {
      "cell_type": "code",
      "source": [
        "txt = \"Hello\\tWorld!\"\n",
        "print(txt) "
      ],
      "metadata": {
        "colab": {
          "base_uri": "https://localhost:8080/"
        },
        "id": "FnQkAa61gCGh",
        "outputId": "b9d7c3d4-0a6d-4c11-c4c2-09d356bb8422"
      },
      "execution_count": 4,
      "outputs": [
        {
          "output_type": "stream",
          "name": "stdout",
          "text": [
            "Hello\tWorld!\n"
          ]
        }
      ]
    },
    {
      "cell_type": "markdown",
      "source": [
        "#3. What is the way to include backslash characters in a string?"
      ],
      "metadata": {
        "id": "B7PWDV5iftst"
      }
    },
    {
      "cell_type": "code",
      "source": [
        "str1=\"hello \\\\swetha\"\n",
        "print(str1)"
      ],
      "metadata": {
        "colab": {
          "base_uri": "https://localhost:8080/"
        },
        "id": "qBprWjYRh2Si",
        "outputId": "7a3ae5d4-ccff-4443-e283-f3fbc3c2bbe8"
      },
      "execution_count": 7,
      "outputs": [
        {
          "output_type": "stream",
          "name": "stdout",
          "text": [
            "hello \\swetha\n"
          ]
        }
      ]
    },
    {
      "cell_type": "markdown",
      "source": [
        "#4. The string \"Howl's Moving Castle\" is a correct value. Why isn't the single quote character in the word Howl's not escaped a problem?"
      ],
      "metadata": {
        "id": "eoTQ0bxQiRNR"
      }
    },
    {
      "cell_type": "markdown",
      "source": [
        "The single quote in Howl's is fine because you've used double quotes to mark the beginning and end of the string."
      ],
      "metadata": {
        "id": "fMvMfxS2izYN"
      }
    },
    {
      "cell_type": "code",
      "source": [
        "txt=\"Howl\\'s Moving Castle\"\n",
        "print(txt)"
      ],
      "metadata": {
        "colab": {
          "base_uri": "https://localhost:8080/"
        },
        "id": "z4aGKruAiWPg",
        "outputId": "d32d4553-7466-45f5-96ae-cb9394340a9d"
      },
      "execution_count": 17,
      "outputs": [
        {
          "output_type": "stream",
          "name": "stdout",
          "text": [
            "Howl's Moving Castle\n"
          ]
        }
      ]
    },
    {
      "cell_type": "markdown",
      "source": [
        "#5. How do you write a string of newlines if you don't want to use the n character?"
      ],
      "metadata": {
        "id": "4lCf0QxRkZFf"
      }
    },
    {
      "cell_type": "code",
      "source": [
        "stringtowrite = '''abcd ||\n",
        "efgh||\n",
        "iklk'''"
      ],
      "metadata": {
        "id": "noUQpKsEkdNL"
      },
      "execution_count": 20,
      "outputs": []
    },
    {
      "cell_type": "code",
      "source": [
        "print(stringtowrite)"
      ],
      "metadata": {
        "colab": {
          "base_uri": "https://localhost:8080/"
        },
        "id": "LbUvKxufmxCA",
        "outputId": "8a6b760d-4967-4ebf-a99f-1811676fefba"
      },
      "execution_count": 21,
      "outputs": [
        {
          "output_type": "stream",
          "name": "stdout",
          "text": [
            "abcd ||\n",
            "efgh||\n",
            "iklk\n"
          ]
        }
      ]
    },
    {
      "cell_type": "markdown",
      "source": [
        "#6. What are the values of the given expressions?\n",
        "'Hello, world!'[1]\n",
        "'Hello, world!'[0:5]\n",
        "'Hello, world!'[:5]\n",
        "'Hello, world!'[3:]\n"
      ],
      "metadata": {
        "id": "ZTArw9d6nABQ"
      }
    },
    {
      "cell_type": "code",
      "source": [
        "'Hello, world!'[1]"
      ],
      "metadata": {
        "colab": {
          "base_uri": "https://localhost:8080/",
          "height": 35
        },
        "id": "bS0YDls8nG3q",
        "outputId": "bdd6b415-9d43-4190-83cd-0d5fe6c37c6f"
      },
      "execution_count": 22,
      "outputs": [
        {
          "output_type": "execute_result",
          "data": {
            "text/plain": [
              "'e'"
            ],
            "application/vnd.google.colaboratory.intrinsic+json": {
              "type": "string"
            }
          },
          "metadata": {},
          "execution_count": 22
        }
      ]
    },
    {
      "cell_type": "code",
      "source": [
        "'Hello, world!'[0:5] "
      ],
      "metadata": {
        "colab": {
          "base_uri": "https://localhost:8080/",
          "height": 35
        },
        "id": "ExIcl2VOnMRf",
        "outputId": "9c50785c-d128-48ac-fb6c-f5085e42c7c6"
      },
      "execution_count": 23,
      "outputs": [
        {
          "output_type": "execute_result",
          "data": {
            "text/plain": [
              "'Hello'"
            ],
            "application/vnd.google.colaboratory.intrinsic+json": {
              "type": "string"
            }
          },
          "metadata": {},
          "execution_count": 23
        }
      ]
    },
    {
      "cell_type": "code",
      "source": [
        "'Hello, world!'[:5]"
      ],
      "metadata": {
        "colab": {
          "base_uri": "https://localhost:8080/",
          "height": 35
        },
        "id": "BFBr4owSnPK6",
        "outputId": "c868535f-3239-4db1-ec2e-7c2f9a5580d3"
      },
      "execution_count": 24,
      "outputs": [
        {
          "output_type": "execute_result",
          "data": {
            "text/plain": [
              "'Hello'"
            ],
            "application/vnd.google.colaboratory.intrinsic+json": {
              "type": "string"
            }
          },
          "metadata": {},
          "execution_count": 24
        }
      ]
    },
    {
      "cell_type": "code",
      "source": [
        "'Hello, world!'[3:]"
      ],
      "metadata": {
        "colab": {
          "base_uri": "https://localhost:8080/",
          "height": 35
        },
        "id": "nEudp2fbnSl7",
        "outputId": "4091f5a3-7e36-47d1-bbd8-8fa1998d9fc1"
      },
      "execution_count": 25,
      "outputs": [
        {
          "output_type": "execute_result",
          "data": {
            "text/plain": [
              "'lo, world!'"
            ],
            "application/vnd.google.colaboratory.intrinsic+json": {
              "type": "string"
            }
          },
          "metadata": {},
          "execution_count": 25
        }
      ]
    },
    {
      "cell_type": "markdown",
      "source": [
        "#7. What are the values of the following expressions?\n",
        "'Hello'.upper()\n",
        "'Hello'.upper().isupper()\n",
        "'Hello'.upper().lower()"
      ],
      "metadata": {
        "id": "d7yCfKH5ngqG"
      }
    },
    {
      "cell_type": "code",
      "source": [
        "'Hello'.upper()"
      ],
      "metadata": {
        "colab": {
          "base_uri": "https://localhost:8080/",
          "height": 35
        },
        "id": "Fw6ibIVZnlrt",
        "outputId": "ef3474e0-4cb0-4f8f-e544-45bddc8dc7de"
      },
      "execution_count": 26,
      "outputs": [
        {
          "output_type": "execute_result",
          "data": {
            "text/plain": [
              "'HELLO'"
            ],
            "application/vnd.google.colaboratory.intrinsic+json": {
              "type": "string"
            }
          },
          "metadata": {},
          "execution_count": 26
        }
      ]
    },
    {
      "cell_type": "code",
      "source": [
        "'Hello'.upper().isupper()"
      ],
      "metadata": {
        "colab": {
          "base_uri": "https://localhost:8080/"
        },
        "id": "u-EHPJIxnqSQ",
        "outputId": "7db6e903-35d5-4a11-a7b6-b94a91da6f47"
      },
      "execution_count": 27,
      "outputs": [
        {
          "output_type": "execute_result",
          "data": {
            "text/plain": [
              "True"
            ]
          },
          "metadata": {},
          "execution_count": 27
        }
      ]
    },
    {
      "cell_type": "code",
      "source": [
        "'Hello'.upper().lower()"
      ],
      "metadata": {
        "colab": {
          "base_uri": "https://localhost:8080/",
          "height": 35
        },
        "id": "6exJhQgMntqR",
        "outputId": "b2faed70-25d2-4d20-c58b-0092888b8e41"
      },
      "execution_count": 28,
      "outputs": [
        {
          "output_type": "execute_result",
          "data": {
            "text/plain": [
              "'hello'"
            ],
            "application/vnd.google.colaboratory.intrinsic+json": {
              "type": "string"
            }
          },
          "metadata": {},
          "execution_count": 28
        }
      ]
    },
    {
      "cell_type": "markdown",
      "source": [
        "#8. What are the values of the following expressions?\n",
        "'Remember, remember, the fifth of July.'.split()\n",
        "'-'.join('There can only one.'.split())\n"
      ],
      "metadata": {
        "id": "pNXnyaWTn5dQ"
      }
    },
    {
      "cell_type": "code",
      "source": [
        "'-'.join('There can only one.'.split())"
      ],
      "metadata": {
        "colab": {
          "base_uri": "https://localhost:8080/",
          "height": 35
        },
        "id": "ERapJlcan7R-",
        "outputId": "4ddaaa59-3a6d-40e7-ad09-ee85b38ec17c"
      },
      "execution_count": 29,
      "outputs": [
        {
          "output_type": "execute_result",
          "data": {
            "text/plain": [
              "'There-can-only-one.'"
            ],
            "application/vnd.google.colaboratory.intrinsic+json": {
              "type": "string"
            }
          },
          "metadata": {},
          "execution_count": 29
        }
      ]
    },
    {
      "cell_type": "markdown",
      "source": [
        "#9. What are the methods for right-justifying, left-justifying, and centering a string?"
      ],
      "metadata": {
        "id": "z8-YfKUqovNy"
      }
    },
    {
      "cell_type": "markdown",
      "source": [
        "rjust(), ljust(), Center()"
      ],
      "metadata": {
        "id": "gsFlJ0Kmo0XA"
      }
    },
    {
      "cell_type": "markdown",
      "source": [
        "#10. What is the best way to remove whitespace characters from the start or end?"
      ],
      "metadata": {
        "id": "fcVc_kQOqVgg"
      }
    },
    {
      "cell_type": "markdown",
      "source": [
        "trimStart() or trimEnd()"
      ],
      "metadata": {
        "id": "2HqKPUs5qr7v"
      }
    }
  ]
}