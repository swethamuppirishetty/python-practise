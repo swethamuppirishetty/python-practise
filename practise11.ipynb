{
  "nbformat": 4,
  "nbformat_minor": 0,
  "metadata": {
    "colab": {
      "provenance": []
    },
    "kernelspec": {
      "name": "python3",
      "display_name": "Python 3"
    },
    "language_info": {
      "name": "python"
    }
  },
  "cells": [
    {
      "cell_type": "markdown",
      "source": [],
      "metadata": {
        "id": "7FzeocVvTt5S"
      }
    },
    {
      "cell_type": "markdown",
      "source": [
        "#1. Create an assert statement that throws an AssertionError if the variable spam is a negative integer."
      ],
      "metadata": {
        "id": "mUiFncUETvwY"
      }
    },
    {
      "cell_type": "code",
      "execution_count": 1,
      "metadata": {
        "colab": {
          "base_uri": "https://localhost:8080/",
          "height": 183
        },
        "id": "pelvjPXETi7y",
        "outputId": "07cdadc5-6a11-4aca-889f-5d74f14f7494"
      },
      "outputs": [
        {
          "output_type": "error",
          "ename": "AssertionError",
          "evalue": "ignored",
          "traceback": [
            "\u001b[0;31m---------------------------------------------------------------------------\u001b[0m",
            "\u001b[0;31mAssertionError\u001b[0m                            Traceback (most recent call last)",
            "\u001b[0;32m<ipython-input-1-437e2d8f34bb>\u001b[0m in \u001b[0;36m<module>\u001b[0;34m\u001b[0m\n\u001b[1;32m      1\u001b[0m \u001b[0mspam\u001b[0m\u001b[0;34m=\u001b[0m\u001b[0;34m-\u001b[0m\u001b[0;36m3\u001b[0m\u001b[0;34m\u001b[0m\u001b[0;34m\u001b[0m\u001b[0m\n\u001b[0;32m----> 2\u001b[0;31m \u001b[0;32massert\u001b[0m \u001b[0mspam\u001b[0m\u001b[0;34m>\u001b[0m\u001b[0;36m0\u001b[0m\u001b[0;34m\u001b[0m\u001b[0;34m\u001b[0m\u001b[0m\n\u001b[0m",
            "\u001b[0;31mAssertionError\u001b[0m: "
          ]
        }
      ],
      "source": [
        "spam=-3\n",
        "assert spam>0"
      ]
    },
    {
      "cell_type": "markdown",
      "source": [
        "#2. Write an assert statement that triggers an AssertionError if the variables eggs and bacon contain strings that are the same as each other, even if their cases are different (that is, 'hello' and 'hello' are considered the same, and 'goodbye' and 'GOODbye' are also considered the same)."
      ],
      "metadata": {
        "id": "LWFmHJW9UPTC"
      }
    },
    {
      "cell_type": "code",
      "source": [
        "eggs='Hello'\n",
        "bacon ='hello'\n",
        "\n",
        "assert eggs.lower() != bacon.lower() or eggs.upper() != bacon.upper()\n",
        "print('The eggs and bacon variables are not the same!')"
      ],
      "metadata": {
        "colab": {
          "base_uri": "https://localhost:8080/",
          "height": 218
        },
        "id": "uISCeUdWUT-g",
        "outputId": "d28c2ec9-ef9a-4dbe-aa0f-27543ad90400"
      },
      "execution_count": 2,
      "outputs": [
        {
          "output_type": "error",
          "ename": "AssertionError",
          "evalue": "ignored",
          "traceback": [
            "\u001b[0;31m---------------------------------------------------------------------------\u001b[0m",
            "\u001b[0;31mAssertionError\u001b[0m                            Traceback (most recent call last)",
            "\u001b[0;32m<ipython-input-2-ff14aa322207>\u001b[0m in \u001b[0;36m<module>\u001b[0;34m\u001b[0m\n\u001b[1;32m      2\u001b[0m \u001b[0mbacon\u001b[0m \u001b[0;34m=\u001b[0m\u001b[0;34m'hello'\u001b[0m\u001b[0;34m\u001b[0m\u001b[0;34m\u001b[0m\u001b[0m\n\u001b[1;32m      3\u001b[0m \u001b[0;34m\u001b[0m\u001b[0m\n\u001b[0;32m----> 4\u001b[0;31m \u001b[0;32massert\u001b[0m \u001b[0meggs\u001b[0m\u001b[0;34m.\u001b[0m\u001b[0mlower\u001b[0m\u001b[0;34m(\u001b[0m\u001b[0;34m)\u001b[0m \u001b[0;34m!=\u001b[0m \u001b[0mbacon\u001b[0m\u001b[0;34m.\u001b[0m\u001b[0mlower\u001b[0m\u001b[0;34m(\u001b[0m\u001b[0;34m)\u001b[0m \u001b[0;32mor\u001b[0m \u001b[0meggs\u001b[0m\u001b[0;34m.\u001b[0m\u001b[0mupper\u001b[0m\u001b[0;34m(\u001b[0m\u001b[0;34m)\u001b[0m \u001b[0;34m!=\u001b[0m \u001b[0mbacon\u001b[0m\u001b[0;34m.\u001b[0m\u001b[0mupper\u001b[0m\u001b[0;34m(\u001b[0m\u001b[0;34m)\u001b[0m\u001b[0;34m\u001b[0m\u001b[0;34m\u001b[0m\u001b[0m\n\u001b[0m\u001b[1;32m      5\u001b[0m \u001b[0mprint\u001b[0m\u001b[0;34m(\u001b[0m\u001b[0;34m'The eggs and bacon variables are not the same!'\u001b[0m\u001b[0;34m)\u001b[0m\u001b[0;34m\u001b[0m\u001b[0;34m\u001b[0m\u001b[0m\n",
            "\u001b[0;31mAssertionError\u001b[0m: "
          ]
        }
      ]
    },
    {
      "cell_type": "markdown",
      "source": [
        "#3. Create an assert statement that throws an AssertionError every time."
      ],
      "metadata": {
        "id": "WVDqmCS6hVtW"
      }
    },
    {
      "cell_type": "markdown",
      "source": [
        "assert False -> this always triggers an exception"
      ],
      "metadata": {
        "id": "U8J94hERhiBE"
      }
    },
    {
      "cell_type": "code",
      "source": [
        "assert False"
      ],
      "metadata": {
        "id": "QTX8B2b-hdN5"
      },
      "execution_count": null,
      "outputs": []
    },
    {
      "cell_type": "markdown",
      "source": [
        "#4. What are the two lines that must be present in your software in order to call logging.debug()?"
      ],
      "metadata": {
        "id": "TpM_agVuhbFJ"
      }
    },
    {
      "cell_type": "code",
      "source": [
        "import logging\n",
        "logging.basicConfig(level=logging.DEBUG, format=' %(asctime)s -%(levelname)s - %(message)s')"
      ],
      "metadata": {
        "id": "WzHmxNtEhnB2"
      },
      "execution_count": 3,
      "outputs": []
    },
    {
      "cell_type": "markdown",
      "source": [
        "#5. What are the two lines that your program must have in order to have logging.debug() send a logging message to a file named programLog.txt?"
      ],
      "metadata": {
        "id": "1o-8KnoHiHWG"
      }
    },
    {
      "cell_type": "code",
      "source": [
        "import logging\n",
        "logging.basicConfig(filename=\"programLog.txt\",level=logging.DEBUG, format=' %(asctime)s -%(levelname)s - %(message)s')"
      ],
      "metadata": {
        "id": "vq5ONQaUiLKG"
      },
      "execution_count": 4,
      "outputs": []
    },
    {
      "cell_type": "markdown",
      "source": [
        "#6. What are the five levels of logging?"
      ],
      "metadata": {
        "id": "40r6T9doiUzA"
      }
    },
    {
      "cell_type": "markdown",
      "source": [
        "Five level of loggins are DEBUG, INFO, WARNING, ERROR, and CRITICAL\n",
        "\n",
        "logging.debug() - variable's state and small details\n",
        "\n",
        "logging.info() - general events, confirm a program is working\n",
        "\n",
        "logging.warning() - potiental problem to work on in the future\n",
        "\n",
        "logging.error() - record an error that caused program to fail to do\n",
        " something\n",
        " \n",
        "logging.critical() - fatal error that has caused"
      ],
      "metadata": {
        "id": "qdHK3fhsiYsx"
      }
    },
    {
      "cell_type": "markdown",
      "source": [
        "#7. What line of code would you add to your software to disable all logging messages?"
      ],
      "metadata": {
        "id": "FVMEQ5FVimTV"
      }
    },
    {
      "cell_type": "code",
      "source": [
        "import logging\n",
        "logging.disable(logging.CRITICAL)"
      ],
      "metadata": {
        "id": "wvYFrdVvi3yv"
      },
      "execution_count": null,
      "outputs": []
    },
    {
      "cell_type": "markdown",
      "source": [
        "#8. Why is using logging messages better than using print() to display the same message?"
      ],
      "metadata": {
        "id": "Xw_xdAlWjHIa"
      }
    },
    {
      "cell_type": "markdown",
      "source": [
        "It keeps track and monitor ur application and keeps every information in a file.\n",
        "\n",
        "Logging messages provides a timestamp."
      ],
      "metadata": {
        "id": "SchMHEIOjLEe"
      }
    },
    {
      "cell_type": "markdown",
      "source": [
        "#9. What are the differences between the Step Over, Step In, and Step Out buttons in the debugger?"
      ],
      "metadata": {
        "id": "vS6Th41Jjnme"
      }
    },
    {
      "cell_type": "markdown",
      "source": [
        "The Step in button will move the debugger into a function call. \n",
        "The Over button will quickly execute the function call without stepping into it. \n",
        "The Out button will quickly execute the rest of the code until it steps out of the function it currently is in."
      ],
      "metadata": {
        "id": "zHOTiXLow_Un"
      }
    },
    {
      "cell_type": "markdown",
      "source": [
        "#10. After you click Continue, when will the debugger stop ?"
      ],
      "metadata": {
        "id": "TlqY1fiaxArs"
      }
    },
    {
      "cell_type": "markdown",
      "source": [
        "It will stops at next breakpoint, if there are no further breakpoints program will be fully executed."
      ],
      "metadata": {
        "id": "Oeq9AQ_yxFXr"
      }
    },
    {
      "cell_type": "markdown",
      "source": [
        "#11. What is the concept of a breakpoint?"
      ],
      "metadata": {
        "id": "lQV2rpglxZ-p"
      }
    },
    {
      "cell_type": "markdown",
      "source": [
        "Part of the debugging function, lines of code are marked as breakpoints."
      ],
      "metadata": {
        "id": "0H9CHNcIxsfA"
      }
    },
    {
      "cell_type": "code",
      "source": [],
      "metadata": {
        "id": "9lnAm5qMu9GH"
      },
      "execution_count": null,
      "outputs": []
    }
  ]
}