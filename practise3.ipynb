{
  "nbformat": 4,
  "nbformat_minor": 0,
  "metadata": {
    "colab": {
      "provenance": [],
      "collapsed_sections": []
    },
    "kernelspec": {
      "name": "python3",
      "display_name": "Python 3"
    },
    "language_info": {
      "name": "python"
    }
  },
  "cells": [
    {
      "cell_type": "markdown",
      "source": [
        "#1. Why are functions advantageous to have in your programs?"
      ],
      "metadata": {
        "id": "tEFh0rt_I36V"
      }
    },
    {
      "cell_type": "markdown",
      "source": [
        "i. Avoid duplication and repetition of codes\n",
        "\n",
        "ii. decompose  complex programs into simpler ones.\n",
        "\n",
        "iii. Improve clarity and readability of code.\n",
        "\n",
        "iv. reduces chances of error\n",
        "\n",
        "v. ease out modification of program\n",
        "\n",
        "vi. information hiding"
      ],
      "metadata": {
        "id": "aHglxpdtJCzW"
      }
    },
    {
      "cell_type": "markdown",
      "source": [
        "#2. When does the code in a function run: when it's specified or when it's called?"
      ],
      "metadata": {
        "id": "0h9rDVrTKFFV"
      }
    },
    {
      "cell_type": "markdown",
      "source": [
        "A function run when it is called."
      ],
      "metadata": {
        "id": "43TwuakwKKm-"
      }
    },
    {
      "cell_type": "markdown",
      "source": [
        "#3. What statement creates a function?"
      ],
      "metadata": {
        "id": "UqbdHJhRKJec"
      }
    },
    {
      "cell_type": "markdown",
      "source": [
        "we define a function using the def keyword followed by the name of the function, parentheses, and a colon.And Inside it some logic to perform a task.\n",
        "\n",
        "define function_name(arguments) :"
      ],
      "metadata": {
        "id": "qzr2ntTVKllA"
      }
    },
    {
      "cell_type": "code",
      "execution_count": null,
      "metadata": {
        "colab": {
          "base_uri": "https://localhost:8080/"
        },
        "id": "A_iGNzOQIvvo",
        "outputId": "44b40233-59ef-49d7-ebf4-d6abbc0aad84"
      },
      "outputs": [
        {
          "output_type": "stream",
          "name": "stdout",
          "text": [
            "2\n",
            "4\n",
            "6\n",
            "8\n",
            "10\n"
          ]
        }
      ],
      "source": [
        "#example\n",
        "def evennumbers(n):\n",
        "  for i in range(1,n+1):\n",
        "    if i%2==0:\n",
        "      print(i)\n",
        "evennumbers(10)"
      ]
    },
    {
      "cell_type": "markdown",
      "source": [
        "#4. What is the difference between a function and a function call?\n",
        "\n",
        "A function call means invoking or calling that function. Unless a function is called there is no use of that function. So the difference between the function and function call is, A function is procedure to achieve a particular result while function call is using this function to achive that task."
      ],
      "metadata": {
        "id": "8ug8i95bN9vo"
      }
    },
    {
      "cell_type": "markdown",
      "source": [
        "#5. How many global scopes are there in a Python program? How many local scopes?"
      ],
      "metadata": {
        "id": "v6cdjz0pS2vi"
      }
    },
    {
      "cell_type": "markdown",
      "source": [
        "i>Local scope- variables declared inside function can only be utilized inside the function.\n",
        "\n",
        "ii>Global scope-variables declared outside any other python variable scope and hence can be utilized anywhere in the program.\n",
        "\n",
        "iii>Enclosed scope –variables which are not global or local\n",
        "\n",
        "iv>Built in scope- The built-in scope has all the names that are loaded into python variable scope when we start the interpreter.\n",
        "\n",
        "e.g,print(),id()\n",
        "\n",
        "There are 1 global scope and 4 local scopes in python program.\n",
        "\n"
      ],
      "metadata": {
        "id": "7SXCqGhKS7CU"
      }
    },
    {
      "cell_type": "markdown",
      "source": [
        "#6. What happens to variables in a local scope when the function call returns?"
      ],
      "metadata": {
        "id": "aoe43Ec6T0jq"
      }
    },
    {
      "cell_type": "markdown",
      "source": [
        "-The local variables are destroyed when the function call returns and memory occupied by them  are freed for any other variables."
      ],
      "metadata": {
        "id": "Ep5huNk8T7nu"
      }
    },
    {
      "cell_type": "markdown",
      "source": [
        "#7. What is the concept of a return value? Is it possible to have a return value in an expression?"
      ],
      "metadata": {
        "id": "yNs3QUN2UDie"
      }
    },
    {
      "cell_type": "markdown",
      "source": [
        "a return statement causes execution to leave the current subroutine and resume at the point in the code immediately after the instruction which called the subroutine, known as its return address. Yes, It is possible to have a return value in an expression."
      ],
      "metadata": {
        "id": "QTQSAvMhUMTZ"
      }
    },
    {
      "cell_type": "code",
      "source": [
        "def greater(n):\n",
        "        return n > 1"
      ],
      "metadata": {
        "id": "l6Lqm4vRa7RG"
      },
      "execution_count": 2,
      "outputs": []
    },
    {
      "cell_type": "code",
      "source": [
        "greater(1)"
      ],
      "metadata": {
        "colab": {
          "base_uri": "https://localhost:8080/"
        },
        "id": "3t9XN_GSbDTF",
        "outputId": "3625b1eb-858e-427b-cea8-f22f43cbf417"
      },
      "execution_count": 3,
      "outputs": [
        {
          "output_type": "execute_result",
          "data": {
            "text/plain": [
              "False"
            ]
          },
          "metadata": {},
          "execution_count": 3
        }
      ]
    },
    {
      "cell_type": "code",
      "source": [
        "greater(5)"
      ],
      "metadata": {
        "colab": {
          "base_uri": "https://localhost:8080/"
        },
        "id": "xXQkEgOObOch",
        "outputId": "e7b8d806-8d42-473d-d3e8-f396bf0764de"
      },
      "execution_count": 4,
      "outputs": [
        {
          "output_type": "execute_result",
          "data": {
            "text/plain": [
              "True"
            ]
          },
          "metadata": {},
          "execution_count": 4
        }
      ]
    },
    {
      "cell_type": "markdown",
      "source": [
        "#8. . If a function does not have a return statement, what is the return value of a call to that function?"
      ],
      "metadata": {
        "id": "i9SJ5AEKUtNZ"
      }
    },
    {
      "cell_type": "markdown",
      "source": [
        "If there is no return statement for a function, its return value is None."
      ],
      "metadata": {
        "id": "z5zOK0I1UyST"
      }
    },
    {
      "cell_type": "markdown",
      "source": [
        "#9. . How do you make a function variable refer to the global variable?"
      ],
      "metadata": {
        "id": "cUz8ugdvU2Y6"
      }
    },
    {
      "cell_type": "markdown",
      "source": [
        " We can use “global” keyword before the variable defined inside the function."
      ],
      "metadata": {
        "id": "HWsIFPULU8wl"
      }
    },
    {
      "cell_type": "markdown",
      "source": [
        "#10. What is the data type of None?"
      ],
      "metadata": {
        "id": "ajO6XxRjVFgU"
      }
    },
    {
      "cell_type": "markdown",
      "source": [
        "The data type of None is NoneType."
      ],
      "metadata": {
        "id": "e206Y1WWVKjq"
      }
    },
    {
      "cell_type": "markdown",
      "source": [
        "#11. . What does the sentence import areallyourpetsnamederic do?"
      ],
      "metadata": {
        "id": "lApErsfnVObT"
      }
    },
    {
      "cell_type": "markdown",
      "source": [
        "This sentence imports the module “areallyourpetsnamederic “"
      ],
      "metadata": {
        "id": "PP46hoRuYqt8"
      }
    },
    {
      "cell_type": "markdown",
      "source": [
        "#12. If you had a bacon() feature in a spam module, what would you call it after importing spam?"
      ],
      "metadata": {
        "id": "BiCE7G9SVhnu"
      }
    },
    {
      "cell_type": "code",
      "source": [
        "by using spam.bacon()"
      ],
      "metadata": {
        "id": "wx4feky_Nj0y"
      },
      "execution_count": null,
      "outputs": []
    },
    {
      "cell_type": "markdown",
      "source": [
        "#13. What can you do to save a programme from crashing if it encounters an error?\n",
        "\n"
      ],
      "metadata": {
        "id": "UpukXo6caCCZ"
      }
    },
    {
      "cell_type": "markdown",
      "source": [
        "error handling can be used to notify the user of why the error occurred and gracefully exit the process that caused the error"
      ],
      "metadata": {
        "id": "jIgTWwlKaG3A"
      }
    },
    {
      "cell_type": "markdown",
      "source": [
        "#14. What is the purpose of the try clause? What is the purpose of the except clause?"
      ],
      "metadata": {
        "id": "Gk-DHCyraI-o"
      }
    },
    {
      "cell_type": "markdown",
      "source": [
        "The try block is used to check some code for errors i.e the code inside the try block will execute when there is no error in the program. Whereas the code inside the except block will execute whenever the program encounters some error in the preceding try block."
      ],
      "metadata": {
        "id": "yRnD7V4saOPn"
      }
    }
  ]
}