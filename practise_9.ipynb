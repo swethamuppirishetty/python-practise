{
  "nbformat": 4,
  "nbformat_minor": 0,
  "metadata": {
    "colab": {
      "provenance": []
    },
    "kernelspec": {
      "name": "python3",
      "display_name": "Python 3"
    },
    "language_info": {
      "name": "python"
    }
  },
  "cells": [
    {
      "cell_type": "markdown",
      "source": [
        "#1. To what does a relative path refer?"
      ],
      "metadata": {
        "id": "MC-wAQOjj440"
      }
    },
    {
      "cell_type": "markdown",
      "source": [
        "The relative path is the path of a file with respect to your current working directory (PWD)."
      ],
      "metadata": {
        "id": "54R4R_Egj_1m"
      }
    },
    {
      "cell_type": "markdown",
      "source": [
        "#2. What does an absolute path start with your operating system?"
      ],
      "metadata": {
        "id": "bIrPDAdsk3-t"
      }
    },
    {
      "cell_type": "markdown",
      "source": [
        "An absolute path contains the full set of directories from the root of the file system up to your target file or directory. An absolute path start with the root folder, such as / or C:."
      ],
      "metadata": {
        "id": "bBuffwnbk_XR"
      }
    },
    {
      "cell_type": "markdown",
      "source": [
        "#3. What do the functions os.getcwd() and os.chdir() do?"
      ],
      "metadata": {
        "id": "VmehSZTAogYf"
      }
    },
    {
      "cell_type": "markdown",
      "source": [
        "os.getcwd() method tells us the location of current working directory(CWB)."
      ],
      "metadata": {
        "id": "QGgsG0cooxYu"
      }
    },
    {
      "cell_type": "code",
      "source": [
        "import os\n",
        "os.getcwd() "
      ],
      "metadata": {
        "colab": {
          "base_uri": "https://localhost:8080/",
          "height": 35
        },
        "id": "mlZCBMnZokpd",
        "outputId": "582c5f79-7b9c-4dc2-e1e1-b752bfb2ac9f"
      },
      "execution_count": 2,
      "outputs": [
        {
          "output_type": "execute_result",
          "data": {
            "text/plain": [
              "'/content'"
            ],
            "application/vnd.google.colaboratory.intrinsic+json": {
              "type": "string"
            }
          },
          "metadata": {},
          "execution_count": 2
        }
      ]
    },
    {
      "cell_type": "markdown",
      "source": [
        "os.chdir() method in Python used to change the current working directory to specified path."
      ],
      "metadata": {
        "id": "1FKXl_cIpGXY"
      }
    },
    {
      "cell_type": "markdown",
      "source": [
        "#4. What are the . and .. folders?"
      ],
      "metadata": {
        "id": "7JniCW8bp0Il"
      }
    },
    {
      "cell_type": "markdown",
      "source": [
        " --> . means current directory\n",
        " --> .. means parent directory"
      ],
      "metadata": {
        "id": "TH_349V3p4JE"
      }
    },
    {
      "cell_type": "markdown",
      "source": [
        "#5. In C:\\bacon\\eggs\\spam.txt, which part is the dir name, and which part is the base name?"
      ],
      "metadata": {
        "id": "BkfsGqSpqVGp"
      }
    },
    {
      "cell_type": "markdown",
      "source": [
        "The basename is the final rightmost segment of the file path . In the above path base name is spam.txt. os.path.basename() can be used to extract base name from the path. dir name is th folder name in which file exists. In the above path dir name is C:\\bacon\\eggs . os.path.dirname() can be used to extract dir name form path."
      ],
      "metadata": {
        "id": "WMGaBKCIug3I"
      }
    },
    {
      "cell_type": "markdown",
      "source": [
        "- dir name = C:\\bacon\\eggs\n",
        "- base (or file) name = spam.txt\n"
      ],
      "metadata": {
        "id": "8IunvmE0EX2E"
      }
    },
    {
      "cell_type": "markdown",
      "source": [
        "#6. What are the three “mode” arguments that can be passed to the open() function?"
      ],
      "metadata": {
        "id": "X5-GvShSuiij"
      }
    },
    {
      "cell_type": "markdown",
      "source": [
        "- read/readlines, write, and append"
      ],
      "metadata": {
        "id": "ftrcwyhxupYW"
      }
    },
    {
      "cell_type": "markdown",
      "source": [
        "#7. What happens if an existing file is opened in write mode?"
      ],
      "metadata": {
        "id": "TqzgNtJ-EiRt"
      }
    },
    {
      "cell_type": "markdown",
      "source": [
        "- It overwrites the existing file and starts from scratch"
      ],
      "metadata": {
        "id": "GriSjJAfE7TF"
      }
    },
    {
      "cell_type": "markdown",
      "source": [
        "#8. How do you tell the difference between read() and readlines()?"
      ],
      "metadata": {
        "id": "nvPYeXUXE8Kt"
      }
    },
    {
      "cell_type": "markdown",
      "source": [
        "- The read() method passes the entire file as a string\n",
        "- The readlines() method provides a list of string values - one string for each line of text."
      ],
      "metadata": {
        "id": "YbhA8X95FARk"
      }
    },
    {
      "cell_type": "markdown",
      "source": [
        "#9. What data structure does a shelf value resemble?"
      ],
      "metadata": {
        "id": "0Xf-Sc7oFHlq"
      }
    },
    {
      "cell_type": "markdown",
      "source": [
        "A shelf value resembles a dictionary value; it has keys and values, along with keys () and values () methods that work similarly to the dictionary methods of the same names. "
      ],
      "metadata": {
        "id": "maddpm5qqZYP"
      }
    },
    {
      "cell_type": "code",
      "execution_count": null,
      "metadata": {
        "id": "84rkKNJfj1ZP"
      },
      "outputs": [],
      "source": []
    }
  ]
}