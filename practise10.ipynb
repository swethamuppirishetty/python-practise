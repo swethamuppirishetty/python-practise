{
  "nbformat": 4,
  "nbformat_minor": 0,
  "metadata": {
    "colab": {
      "provenance": []
    },
    "kernelspec": {
      "name": "python3",
      "display_name": "Python 3"
    },
    "language_info": {
      "name": "python"
    }
  },
  "cells": [
    {
      "cell_type": "markdown",
      "source": [
        "#1. How do you distinguish between shutil.copy() and shutil.copytree()?"
      ],
      "metadata": {
        "id": "nrmtN9sPWlL-"
      }
    },
    {
      "cell_type": "markdown",
      "source": [
        "--> shutil.copy() is used to copy a single file from one location to another. This function takes two arguments: the source file path and the destination file path. The source file will be copied to the destination file path, overwriting any existing file with the same name.\n",
        "eg:\n",
        "import shutil\n",
        "shutil.copy('original_file.txt', 'copy_file.txt')\n",
        "\n",
        "-->shutil.copytree() is used to copy an entire directory and all of its contents from one location to another. This function takes two arguments: the source directory path and the destination directory path. The source directory will be copied to the destination directory path, including all of its subdirectories and files. If the destination directory already exists, shutil.copytree() will raise an error."
      ],
      "metadata": {
        "id": "aPkOIj8JWo6C"
      }
    },
    {
      "cell_type": "markdown",
      "source": [
        "#2. What function is used to rename files??"
      ],
      "metadata": {
        "id": "3ZVKz6E7XIdu"
      }
    },
    {
      "cell_type": "code",
      "source": [
        "import os\n",
        "os.rename(\"text.txt\",\"testnew.txt\")"
      ],
      "metadata": {
        "id": "gEHfm3LgYk8m"
      },
      "execution_count": null,
      "outputs": []
    },
    {
      "cell_type": "markdown",
      "source": [
        "#3. What is the difference between the delete functions in the send2trash and shutil modules?"
      ],
      "metadata": {
        "id": "vby-bT_2X6N0"
      }
    },
    {
      "cell_type": "markdown",
      "source": [
        "shutil.rmtree() permanently deletes files and directories,\n",
        "\n",
        "while send2trash() moves them to the trash or recycle bin, allowing them to be recovered later."
      ],
      "metadata": {
        "id": "TiUDyxafYBVr"
      }
    },
    {
      "cell_type": "code",
      "source": [
        "import shutil\n",
        "import send2trash\n",
        "shutil.rmtree(\"path\")\n",
        "send2trash.send2trash(\"path\")"
      ],
      "metadata": {
        "id": "SoJZ2ywIYfa5"
      },
      "execution_count": null,
      "outputs": []
    },
    {
      "cell_type": "markdown",
      "source": [
        "#4. ZipFile objects have a close() method just like File objects’ close() method. What ZipFile method is equivalent to File objects’ open() method?"
      ],
      "metadata": {
        "id": "PxtsVM1DYYpu"
      }
    },
    {
      "cell_type": "markdown",
      "source": [
        "The zipfile.ZipFile class in Python has a method called open() that is equivalent to the open() method for file objects.\n",
        "\n",
        "The zipfile.ZipFile.open() method is used to open a file within a zip archive for reading or writing. It takes two arguments: the name of the file within the archive and the mode in which the file should be opened ('r' for reading, 'w' for writing, etc.)."
      ],
      "metadata": {
        "id": "8i62EobcYzQB"
      }
    },
    {
      "cell_type": "code",
      "source": [
        "import zipfile\n",
        "\n",
        "with zipfile.ZipFile('example.zip', 'r') as zip_ref:\n",
        "    with zip_ref.open('file_inside_zip.txt', 'r') as file:\n",
        "        print(file.read())\n"
      ],
      "metadata": {
        "id": "8Kh_iC6QZ89C"
      },
      "execution_count": null,
      "outputs": []
    },
    {
      "cell_type": "markdown",
      "source": [
        "Create a programme that searches a folder tree for files with a certain file extension (such as .pdf or .jpg). Copy these files from whatever location they are in to a new folder."
      ],
      "metadata": {
        "id": "nEnSx52ZaBQB"
      }
    },
    {
      "cell_type": "code",
      "source": [
        "# Write a program that walks through a folder tree \n",
        "# and searches for files with a certain file extension (such as .pdf or .jpg).\n",
        "# Copy these files from whatever location they are in to a new folder.\n",
        "import os, shutil\n",
        "\n",
        "def selectiveCopy(source, extensions, destFolder):\n",
        "    folder = os.path.abspath(source)\n",
        "    destFolder = os.path.abspath(destFolder)\n",
        "    print('Looking in', source, 'for files with extensions of', ', '.join(extensions))\n",
        "    for foldername, subfolders, filenames in os.walk(source):\n",
        "        for filename in filenames:\n",
        "            name, extension = os.path.splitext(filename)\n",
        "            if extension in extensions:\n",
        "                fileAbsPath = foldername + os.path.sep + filename\n",
        "                print('Coping', fileAbsPath, 'to', destFolder)\n",
        "                shutil.copy(fileAbsPath, destFolder)\n",
        "\n",
        "extensions = ['.mp4', '.pdf','.jpg']\n",
        "source = \"C:\\\\Users\\\\bhanu\\\\Desktop\\\\source\"\n",
        "destFolder = \"C:\\\\Users\\\\bhanu\\\\Desktop\\\\dest\"\n",
        "selectiveCopy(source, extensions, destFolder)"
      ],
      "metadata": {
        "id": "-Aup-2dBaHOP"
      },
      "execution_count": null,
      "outputs": []
    },
    {
      "cell_type": "code",
      "execution_count": null,
      "metadata": {
        "id": "aqB6ozqxWg9j"
      },
      "outputs": [],
      "source": []
    }
  ]
}