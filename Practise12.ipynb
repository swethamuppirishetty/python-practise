{
  "nbformat": 4,
  "nbformat_minor": 0,
  "metadata": {
    "colab": {
      "provenance": []
    },
    "kernelspec": {
      "name": "python3",
      "display_name": "Python 3"
    },
    "language_info": {
      "name": "python"
    }
  },
  "cells": [
    {
      "cell_type": "markdown",
      "source": [
        "#1. In what modes should the PdfFileReader() and PdfFileWriter() File objects will be opened?"
      ],
      "metadata": {
        "id": "XKEDyxCETPDq"
      }
    },
    {
      "cell_type": "markdown",
      "source": [
        "These files will be opened in binary mode., read binary (rb) for PdfFileREader() and write binary (wb) PdfFileWriter()"
      ],
      "metadata": {
        "id": "YqSmdc4dDLLL"
      }
    },
    {
      "cell_type": "code",
      "execution_count": null,
      "metadata": {
        "id": "AnTAaFjDTKmK"
      },
      "outputs": [],
      "source": [
        "# pip install PyPDF2"
      ]
    },
    {
      "cell_type": "markdown",
      "source": [
        "#2. From a PdfFileReader object, how do you get a Page object for page 5?"
      ],
      "metadata": {
        "id": "M1leLlSUDabu"
      }
    },
    {
      "cell_type": "markdown",
      "source": [
        "Calling getPage(4) will return a Page object for page 5 since page 0 is the first page"
      ],
      "metadata": {
        "id": "v5MhUQidDuOc"
      }
    },
    {
      "cell_type": "code",
      "source": [
        "import PyPDF2 as pdf\n",
        "pdfFileObj = open(\"examplefile.pdf\",'rb')\n",
        "pdfReader = pdf.PdfFileReader(pdfFileObj)\n",
        "pageObj = pdfReader.getPage(4)\n",
        "pageObj.extractText()"
      ],
      "metadata": {
        "id": "7XSpCN1uDeaW"
      },
      "execution_count": null,
      "outputs": []
    },
    {
      "cell_type": "markdown",
      "source": [
        "#3. What PdfFileReader variable stores the number of pages in the PDF document?"
      ],
      "metadata": {
        "id": "33g0DVjzEScd"
      }
    },
    {
      "cell_type": "markdown",
      "source": [
        "The PdfFileReader.numPages variable stores an integer of the number of pages in the PdfFileReader object"
      ],
      "metadata": {
        "id": "YZBLEhZYE1YL"
      }
    },
    {
      "cell_type": "code",
      "source": [
        "import PyPDF2 as pdf\n",
        "pdfFileObj = open(\"examplefile.pdf\",'rb')\n",
        "pdfReader = pdf.PdfFileReader(pdfFileObj)\n",
        "pdfReader.numPages"
      ],
      "metadata": {
        "id": "w9lux5NpE2fa"
      },
      "execution_count": null,
      "outputs": []
    },
    {
      "cell_type": "markdown",
      "source": [
        "#4. If a PdfFileReader object’s PDF is encrypted with the password swordfish, what must you do before you can obtain Page objects from it?"
      ],
      "metadata": {
        "id": "nCaNzXDLE7_V"
      }
    },
    {
      "cell_type": "markdown",
      "source": [
        "before we obtain the page object, the pdf has to be decrypted by calling .decrypt('swordfish')"
      ],
      "metadata": {
        "id": "yWTuWnHeFBuD"
      }
    },
    {
      "cell_type": "code",
      "source": [
        "pdfReader.decrypt('swordfish')"
      ],
      "metadata": {
        "id": "7BtRTYHjFKZb"
      },
      "execution_count": null,
      "outputs": []
    },
    {
      "cell_type": "markdown",
      "source": [
        "#5. What methods do you use to rotate a page?"
      ],
      "metadata": {
        "id": "hD8py9_OFSju"
      }
    },
    {
      "cell_type": "markdown",
      "source": [
        "The rotateClockwise() and rotateCounterClockwise() methods. The degrees to rotate is passed as an integer argument"
      ],
      "metadata": {
        "id": "gbjRpdu4Fmle"
      }
    },
    {
      "cell_type": "code",
      "source": [
        "pageObj.rotateClockwise(180)"
      ],
      "metadata": {
        "id": "2fqCdDy2FW5q"
      },
      "execution_count": null,
      "outputs": []
    },
    {
      "cell_type": "markdown",
      "source": [
        "#6. What is the difference between a Run object and a Paragraph object?"
      ],
      "metadata": {
        "id": "9YAWRMXqFrFd"
      }
    },
    {
      "cell_type": "markdown",
      "source": [
        "Paragraph Object :  A document contains multiple paragraphs. A paragraph begins on a new line and contains multiple \n",
        "runs. \n",
        "The Document object contains a list of Paragraph objects for the paragraphs in the document. (A new paragraph begins \n",
        "whenever the user presses ENTER or RETURN while typing in a Word document.)\n",
        "\n",
        "Run Objects :\n",
        "Runs are contiguous groups of characters within a paragraph with the same style"
      ],
      "metadata": {
        "id": "gR3pkiVeFvs0"
      }
    },
    {
      "cell_type": "markdown",
      "source": [
        "#7. How do you obtain a list of Paragraph objects for a Document object that’s stored in a variable named doc?"
      ],
      "metadata": {
        "id": "cKrXa1BzGFJq"
      }
    },
    {
      "cell_type": "markdown",
      "source": [
        "By using doc.paragraphs"
      ],
      "metadata": {
        "id": "5Vs3O3KlGJuX"
      }
    },
    {
      "cell_type": "code",
      "source": [
        "#!pip install python-docx\n",
        "import docx\n",
        "doc = docx.Document('demo.docx')\n",
        "doc.paragraphs"
      ],
      "metadata": {
        "id": "tcqmzXqIGaJY"
      },
      "execution_count": null,
      "outputs": []
    },
    {
      "cell_type": "markdown",
      "source": [
        "#8. What type of object has bold, underline, italic, strike, and outline variables?"
      ],
      "metadata": {
        "id": "dHirwXbpGdxp"
      }
    },
    {
      "cell_type": "markdown",
      "source": [
        "A Run object has bold, underline,italic,strike and outline variables"
      ],
      "metadata": {
        "id": "8g-XYELmGj7V"
      }
    },
    {
      "cell_type": "markdown",
      "source": [
        "#9. What is the difference between False, True, and None for the bold variable?"
      ],
      "metadata": {
        "id": "ukGV30p_Go1M"
      }
    },
    {
      "cell_type": "markdown",
      "source": [
        "Runs can be further styled using text attributes. Each attribute can be set to one of three values: \n",
        "True (the attribute is always enabled, no matter what other styles are applied to the run), \n",
        "False (the attribute is always disabled),\n",
        "None (defaults to whatever the run’s style is set to)\n",
        "\n",
        "True always makes the Run object bolded and False makes it always not bolded, no matter what the style’s bold setting is. None will make the Run object just use the style’s bold setting"
      ],
      "metadata": {
        "id": "hC7_z5qGGtpg"
      }
    },
    {
      "cell_type": "markdown",
      "source": [
        "#10. How do you create a Document object for a new Word document?"
      ],
      "metadata": {
        "id": "ewscyxM1HDK_"
      }
    },
    {
      "cell_type": "markdown",
      "source": [
        "By Calling the docx.Document() function."
      ],
      "metadata": {
        "id": "zVF9B_aZHHK0"
      }
    },
    {
      "cell_type": "markdown",
      "source": [
        "#11. How do you add a paragraph with the text 'Hello, there!' to a Document object stored in a variable named doc?"
      ],
      "metadata": {
        "id": "FAs3176pHLOf"
      }
    },
    {
      "cell_type": "code",
      "source": [
        "import docx\n",
        "doc = docx.Document()\n",
        "\n",
        "doc.add_paragraph('Hello there!')\n",
        "doc.save('hellothere.docx')"
      ],
      "metadata": {
        "id": "5ZlUAsrJHXsi"
      },
      "execution_count": null,
      "outputs": []
    },
    {
      "cell_type": "markdown",
      "source": [
        "#12. What integers represent the levels of headings available in Word documents?"
      ],
      "metadata": {
        "id": "qL5SguwHHUIo"
      }
    },
    {
      "cell_type": "markdown",
      "source": [
        "integer from 0 to 4\n",
        "\n",
        "The arguments to add_heading() are a string of the heading text and an integer from 0 to 4. The integer 0 makes the heading the Title style, which is used for the top of the document. Integers 1 to 4 are for various heading levels, with 1 being the main heading and 4 the lowest subheading"
      ],
      "metadata": {
        "id": "Z0q1WaidHks4"
      }
    },
    {
      "cell_type": "markdown",
      "source": [],
      "metadata": {
        "id": "Yyhgj_lwHmiW"
      }
    }
  ]
}